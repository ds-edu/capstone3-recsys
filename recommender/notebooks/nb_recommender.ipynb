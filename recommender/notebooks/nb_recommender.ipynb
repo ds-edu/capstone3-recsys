{
 "cells": [
  {
   "cell_type": "markdown",
   "id": "cb2b066c",
   "metadata": {},
   "source": [
    "## PREREQUISITES"
   ]
  },
  {
   "cell_type": "markdown",
   "id": "e0a1f8a5",
   "metadata": {},
   "source": [
    "#### Import Libraries"
   ]
  },
  {
   "cell_type": "code",
   "execution_count": 2,
   "id": "af4ecdcf",
   "metadata": {},
   "outputs": [],
   "source": [
    "import os\n",
    "import sys\n",
    "\n",
    "import pandas as pd\n",
    "import numpy as np\n",
    "import re"
   ]
  },
  {
   "cell_type": "markdown",
   "id": "372b255a",
   "metadata": {},
   "source": [
    "#### Import Modules"
   ]
  },
  {
   "cell_type": "code",
   "execution_count": 3,
   "id": "4f8aca5c",
   "metadata": {},
   "outputs": [],
   "source": [
    "%load_ext autoreload\n",
    "%autoreload 2\n",
    "\n",
    "# Build an absolute path from this notebook's parent directory\n",
    "package_path = os.path.abspath(os.path.join('../src'))\n",
    "\n",
    "# # Add to sys.path if not already present\n",
    "if package_path not in sys.path: \n",
    "    sys.path.insert(0, package_path)\n"
   ]
  },
  {
   "cell_type": "code",
   "execution_count": 4,
   "id": "91e6d6d7",
   "metadata": {},
   "outputs": [
    {
     "name": "stderr",
     "output_type": "stream",
     "text": [
      "\u001b[32m2025-04-22 07:00:40.478\u001b[0m | \u001b[1mINFO    \u001b[0m | \u001b[36mconfig\u001b[0m:\u001b[36m<module>\u001b[0m:\u001b[36m13\u001b[0m - \u001b[1mPROJ_ROOT path is: /home/edu/DataScience/CapstoneProjects/RecSys/recommender\u001b[0m\n"
     ]
    },
    {
     "name": "stdout",
     "output_type": "stream",
     "text": [
      "/home/edu/DataScience/CapstoneProjects/RecSys/recommender/notebooks\n",
      "/home/edu/DataScience/CapstoneProjects/RecSys/recommender/logs/04-22-2025_070040.log\n",
      "/home/edu/DataScience/CapstoneProjects/RecSys/recommender/notebooks\n"
     ]
    }
   ],
   "source": [
    "from config import DATA_DIR \n",
    "from dataingestion import DataIngestion\n",
    "from logger import logging"
   ]
  },
  {
   "cell_type": "markdown",
   "id": "d2534085",
   "metadata": {},
   "source": [
    "#### Data Ingestion"
   ]
  },
  {
   "cell_type": "code",
   "execution_count": 5,
   "id": "e24c427f",
   "metadata": {},
   "outputs": [],
   "source": [
    "data_in = DataIngestion()\n",
    "df, raw_data_path = data_in.initiate_data_ingestion()"
   ]
  },
  {
   "cell_type": "code",
   "execution_count": 6,
   "id": "ffa65cc4",
   "metadata": {},
   "outputs": [],
   "source": [
    "# Testing: - read file\n",
    "\n",
    "df = pd.read_csv('../data/raw/amazon_2023/Amazon-Reviews.csv', index_col=False)"
   ]
  },
  {
   "cell_type": "code",
   "execution_count": 7,
   "id": "08be6ed2",
   "metadata": {},
   "outputs": [
    {
     "data": {
      "text/html": [
       "<div>\n",
       "<style scoped>\n",
       "    .dataframe tbody tr th:only-of-type {\n",
       "        vertical-align: middle;\n",
       "    }\n",
       "\n",
       "    .dataframe tbody tr th {\n",
       "        vertical-align: top;\n",
       "    }\n",
       "\n",
       "    .dataframe thead th {\n",
       "        text-align: right;\n",
       "    }\n",
       "</style>\n",
       "<table border=\"1\" class=\"dataframe\">\n",
       "  <thead>\n",
       "    <tr style=\"text-align: right;\">\n",
       "      <th></th>\n",
       "      <th>product_id</th>\n",
       "      <th>product_name</th>\n",
       "      <th>category</th>\n",
       "      <th>discounted_price</th>\n",
       "      <th>actual_price</th>\n",
       "      <th>discount_percentage</th>\n",
       "      <th>rating</th>\n",
       "      <th>rating_count</th>\n",
       "      <th>about_product</th>\n",
       "      <th>user_id</th>\n",
       "      <th>user_name</th>\n",
       "      <th>review_id</th>\n",
       "      <th>review_title</th>\n",
       "      <th>review_content</th>\n",
       "      <th>img_link</th>\n",
       "      <th>product_link</th>\n",
       "    </tr>\n",
       "  </thead>\n",
       "  <tbody>\n",
       "    <tr>\n",
       "      <th>0</th>\n",
       "      <td>B07JW9H4J1</td>\n",
       "      <td>Wayona Nylon Braided USB to Lightning Fast Cha...</td>\n",
       "      <td>Computers&amp;Accessories|Accessories&amp;Peripherals|...</td>\n",
       "      <td>₹399</td>\n",
       "      <td>₹1,099</td>\n",
       "      <td>64%</td>\n",
       "      <td>4.2</td>\n",
       "      <td>24,269</td>\n",
       "      <td>High Compatibility : Compatible With iPhone 12...</td>\n",
       "      <td>AG3D6O4STAQKAY2UVGEUV46KN35Q,AHMY5CWJMMK5BJRBB...</td>\n",
       "      <td>Manav,Adarsh gupta,Sundeep,S.Sayeed Ahmed,jasp...</td>\n",
       "      <td>R3HXWT0LRP0NMF,R2AJM3LFTLZHFO,R6AQJGUP6P86,R1K...</td>\n",
       "      <td>Satisfied,Charging is really fast,Value for mo...</td>\n",
       "      <td>Looks durable Charging is fine tooNo complains...</td>\n",
       "      <td>https://m.media-amazon.com/images/W/WEBP_40237...</td>\n",
       "      <td>https://www.amazon.in/Wayona-Braided-WN3LG1-Sy...</td>\n",
       "    </tr>\n",
       "    <tr>\n",
       "      <th>1</th>\n",
       "      <td>B098NS6PVG</td>\n",
       "      <td>Ambrane Unbreakable 60W / 3A Fast Charging 1.5...</td>\n",
       "      <td>Computers&amp;Accessories|Accessories&amp;Peripherals|...</td>\n",
       "      <td>₹199</td>\n",
       "      <td>₹349</td>\n",
       "      <td>43%</td>\n",
       "      <td>4.0</td>\n",
       "      <td>43,994</td>\n",
       "      <td>Compatible with all Type C enabled devices, be...</td>\n",
       "      <td>AECPFYFQVRUWC3KGNLJIOREFP5LQ,AGYYVPDD7YG7FYNBX...</td>\n",
       "      <td>ArdKn,Nirbhay kumar,Sagar Viswanathan,Asp,Plac...</td>\n",
       "      <td>RGIQEG07R9HS2,R1SMWZQ86XIN8U,R2J3Y1WL29GWDE,RY...</td>\n",
       "      <td>A Good Braided Cable for Your Type C Device,Go...</td>\n",
       "      <td>I ordered this cable to connect my phone to An...</td>\n",
       "      <td>https://m.media-amazon.com/images/W/WEBP_40237...</td>\n",
       "      <td>https://www.amazon.in/Ambrane-Unbreakable-Char...</td>\n",
       "    </tr>\n",
       "    <tr>\n",
       "      <th>2</th>\n",
       "      <td>B096MSW6CT</td>\n",
       "      <td>Sounce Fast Phone Charging Cable &amp; Data Sync U...</td>\n",
       "      <td>Computers&amp;Accessories|Accessories&amp;Peripherals|...</td>\n",
       "      <td>₹199</td>\n",
       "      <td>₹1,899</td>\n",
       "      <td>90%</td>\n",
       "      <td>3.9</td>\n",
       "      <td>7,928</td>\n",
       "      <td>【 Fast Charger&amp; Data Sync】-With built-in safet...</td>\n",
       "      <td>AGU3BBQ2V2DDAMOAKGFAWDDQ6QHA,AESFLDV2PT363T2AQ...</td>\n",
       "      <td>Kunal,Himanshu,viswanath,sai niharka,saqib mal...</td>\n",
       "      <td>R3J3EQQ9TZI5ZJ,R3E7WBGK7ID0KV,RWU79XKQ6I1QF,R2...</td>\n",
       "      <td>Good speed for earlier versions,Good Product,W...</td>\n",
       "      <td>Not quite durable and sturdy,https://m.media-a...</td>\n",
       "      <td>https://m.media-amazon.com/images/W/WEBP_40237...</td>\n",
       "      <td>https://www.amazon.in/Sounce-iPhone-Charging-C...</td>\n",
       "    </tr>\n",
       "    <tr>\n",
       "      <th>3</th>\n",
       "      <td>B08HDJ86NZ</td>\n",
       "      <td>boAt Deuce USB 300 2 in 1 Type-C &amp; Micro USB S...</td>\n",
       "      <td>Computers&amp;Accessories|Accessories&amp;Peripherals|...</td>\n",
       "      <td>₹329</td>\n",
       "      <td>₹699</td>\n",
       "      <td>53%</td>\n",
       "      <td>4.2</td>\n",
       "      <td>94,363</td>\n",
       "      <td>The boAt Deuce USB 300 2 in 1 cable is compati...</td>\n",
       "      <td>AEWAZDZZJLQUYVOVGBEUKSLXHQ5A,AG5HTSFRRE6NL3M5S...</td>\n",
       "      <td>Omkar dhale,JD,HEMALATHA,Ajwadh a.,amar singh ...</td>\n",
       "      <td>R3EEUZKKK9J36I,R3HJVYCLYOY554,REDECAZ7AMPQC,R1...</td>\n",
       "      <td>Good product,Good one,Nice,Really nice product...</td>\n",
       "      <td>Good product,long wire,Charges good,Nice,I bou...</td>\n",
       "      <td>https://m.media-amazon.com/images/I/41V5FtEWPk...</td>\n",
       "      <td>https://www.amazon.in/Deuce-300-Resistant-Tang...</td>\n",
       "    </tr>\n",
       "    <tr>\n",
       "      <th>4</th>\n",
       "      <td>B08CF3B7N1</td>\n",
       "      <td>Portronics Konnect L 1.2M Fast Charging 3A 8 P...</td>\n",
       "      <td>Computers&amp;Accessories|Accessories&amp;Peripherals|...</td>\n",
       "      <td>₹154</td>\n",
       "      <td>₹399</td>\n",
       "      <td>61%</td>\n",
       "      <td>4.2</td>\n",
       "      <td>16,905</td>\n",
       "      <td>[CHARGE &amp; SYNC FUNCTION]- This cable comes wit...</td>\n",
       "      <td>AE3Q6KSUK5P75D5HFYHCRAOLODSA,AFUGIFH5ZAFXRDSZH...</td>\n",
       "      <td>rahuls6099,Swasat Borah,Ajay Wadke,Pranali,RVK...</td>\n",
       "      <td>R1BP4L2HH9TFUP,R16PVJEXKV6QZS,R2UPDB81N66T4P,R...</td>\n",
       "      <td>As good as original,Decent,Good one for second...</td>\n",
       "      <td>Bought this instead of original apple, does th...</td>\n",
       "      <td>https://m.media-amazon.com/images/W/WEBP_40237...</td>\n",
       "      <td>https://www.amazon.in/Portronics-Konnect-POR-1...</td>\n",
       "    </tr>\n",
       "  </tbody>\n",
       "</table>\n",
       "</div>"
      ],
      "text/plain": [
       "   product_id                                       product_name  \\\n",
       "0  B07JW9H4J1  Wayona Nylon Braided USB to Lightning Fast Cha...   \n",
       "1  B098NS6PVG  Ambrane Unbreakable 60W / 3A Fast Charging 1.5...   \n",
       "2  B096MSW6CT  Sounce Fast Phone Charging Cable & Data Sync U...   \n",
       "3  B08HDJ86NZ  boAt Deuce USB 300 2 in 1 Type-C & Micro USB S...   \n",
       "4  B08CF3B7N1  Portronics Konnect L 1.2M Fast Charging 3A 8 P...   \n",
       "\n",
       "                                            category discounted_price  \\\n",
       "0  Computers&Accessories|Accessories&Peripherals|...             ₹399   \n",
       "1  Computers&Accessories|Accessories&Peripherals|...             ₹199   \n",
       "2  Computers&Accessories|Accessories&Peripherals|...             ₹199   \n",
       "3  Computers&Accessories|Accessories&Peripherals|...             ₹329   \n",
       "4  Computers&Accessories|Accessories&Peripherals|...             ₹154   \n",
       "\n",
       "  actual_price discount_percentage rating rating_count  \\\n",
       "0       ₹1,099                 64%    4.2       24,269   \n",
       "1         ₹349                 43%    4.0       43,994   \n",
       "2       ₹1,899                 90%    3.9        7,928   \n",
       "3         ₹699                 53%    4.2       94,363   \n",
       "4         ₹399                 61%    4.2       16,905   \n",
       "\n",
       "                                       about_product  \\\n",
       "0  High Compatibility : Compatible With iPhone 12...   \n",
       "1  Compatible with all Type C enabled devices, be...   \n",
       "2  【 Fast Charger& Data Sync】-With built-in safet...   \n",
       "3  The boAt Deuce USB 300 2 in 1 cable is compati...   \n",
       "4  [CHARGE & SYNC FUNCTION]- This cable comes wit...   \n",
       "\n",
       "                                             user_id  \\\n",
       "0  AG3D6O4STAQKAY2UVGEUV46KN35Q,AHMY5CWJMMK5BJRBB...   \n",
       "1  AECPFYFQVRUWC3KGNLJIOREFP5LQ,AGYYVPDD7YG7FYNBX...   \n",
       "2  AGU3BBQ2V2DDAMOAKGFAWDDQ6QHA,AESFLDV2PT363T2AQ...   \n",
       "3  AEWAZDZZJLQUYVOVGBEUKSLXHQ5A,AG5HTSFRRE6NL3M5S...   \n",
       "4  AE3Q6KSUK5P75D5HFYHCRAOLODSA,AFUGIFH5ZAFXRDSZH...   \n",
       "\n",
       "                                           user_name  \\\n",
       "0  Manav,Adarsh gupta,Sundeep,S.Sayeed Ahmed,jasp...   \n",
       "1  ArdKn,Nirbhay kumar,Sagar Viswanathan,Asp,Plac...   \n",
       "2  Kunal,Himanshu,viswanath,sai niharka,saqib mal...   \n",
       "3  Omkar dhale,JD,HEMALATHA,Ajwadh a.,amar singh ...   \n",
       "4  rahuls6099,Swasat Borah,Ajay Wadke,Pranali,RVK...   \n",
       "\n",
       "                                           review_id  \\\n",
       "0  R3HXWT0LRP0NMF,R2AJM3LFTLZHFO,R6AQJGUP6P86,R1K...   \n",
       "1  RGIQEG07R9HS2,R1SMWZQ86XIN8U,R2J3Y1WL29GWDE,RY...   \n",
       "2  R3J3EQQ9TZI5ZJ,R3E7WBGK7ID0KV,RWU79XKQ6I1QF,R2...   \n",
       "3  R3EEUZKKK9J36I,R3HJVYCLYOY554,REDECAZ7AMPQC,R1...   \n",
       "4  R1BP4L2HH9TFUP,R16PVJEXKV6QZS,R2UPDB81N66T4P,R...   \n",
       "\n",
       "                                        review_title  \\\n",
       "0  Satisfied,Charging is really fast,Value for mo...   \n",
       "1  A Good Braided Cable for Your Type C Device,Go...   \n",
       "2  Good speed for earlier versions,Good Product,W...   \n",
       "3  Good product,Good one,Nice,Really nice product...   \n",
       "4  As good as original,Decent,Good one for second...   \n",
       "\n",
       "                                      review_content  \\\n",
       "0  Looks durable Charging is fine tooNo complains...   \n",
       "1  I ordered this cable to connect my phone to An...   \n",
       "2  Not quite durable and sturdy,https://m.media-a...   \n",
       "3  Good product,long wire,Charges good,Nice,I bou...   \n",
       "4  Bought this instead of original apple, does th...   \n",
       "\n",
       "                                            img_link  \\\n",
       "0  https://m.media-amazon.com/images/W/WEBP_40237...   \n",
       "1  https://m.media-amazon.com/images/W/WEBP_40237...   \n",
       "2  https://m.media-amazon.com/images/W/WEBP_40237...   \n",
       "3  https://m.media-amazon.com/images/I/41V5FtEWPk...   \n",
       "4  https://m.media-amazon.com/images/W/WEBP_40237...   \n",
       "\n",
       "                                        product_link  \n",
       "0  https://www.amazon.in/Wayona-Braided-WN3LG1-Sy...  \n",
       "1  https://www.amazon.in/Ambrane-Unbreakable-Char...  \n",
       "2  https://www.amazon.in/Sounce-iPhone-Charging-C...  \n",
       "3  https://www.amazon.in/Deuce-300-Resistant-Tang...  \n",
       "4  https://www.amazon.in/Portronics-Konnect-POR-1...  "
      ]
     },
     "execution_count": 7,
     "metadata": {},
     "output_type": "execute_result"
    }
   ],
   "source": [
    "df.head(5)"
   ]
  },
  {
   "cell_type": "markdown",
   "id": "854ff9dd",
   "metadata": {},
   "source": [
    "## DATA CLEANING"
   ]
  },
  {
   "cell_type": "code",
   "execution_count": 8,
   "id": "8b34aa3c",
   "metadata": {},
   "outputs": [
    {
     "data": {
      "text/plain": [
       "(1465, 16)"
      ]
     },
     "execution_count": 8,
     "metadata": {},
     "output_type": "execute_result"
    }
   ],
   "source": [
    "logging.info(f'Dataset shape before cleaning step: {df.shape}')\n",
    "df.shape"
   ]
  },
  {
   "cell_type": "code",
   "execution_count": 9,
   "id": "b3dcbdf4",
   "metadata": {},
   "outputs": [
    {
     "name": "stdout",
     "output_type": "stream",
     "text": [
      "<class 'pandas.core.frame.DataFrame'>\n",
      "RangeIndex: 1465 entries, 0 to 1464\n",
      "Data columns (total 16 columns):\n",
      " #   Column               Non-Null Count  Dtype \n",
      "---  ------               --------------  ----- \n",
      " 0   product_id           1465 non-null   object\n",
      " 1   product_name         1465 non-null   object\n",
      " 2   category             1465 non-null   object\n",
      " 3   discounted_price     1465 non-null   object\n",
      " 4   actual_price         1465 non-null   object\n",
      " 5   discount_percentage  1465 non-null   object\n",
      " 6   rating               1465 non-null   object\n",
      " 7   rating_count         1463 non-null   object\n",
      " 8   about_product        1465 non-null   object\n",
      " 9   user_id              1465 non-null   object\n",
      " 10  user_name            1465 non-null   object\n",
      " 11  review_id            1465 non-null   object\n",
      " 12  review_title         1465 non-null   object\n",
      " 13  review_content       1465 non-null   object\n",
      " 14  img_link             1465 non-null   object\n",
      " 15  product_link         1465 non-null   object\n",
      "dtypes: object(16)\n",
      "memory usage: 183.3+ KB\n"
     ]
    }
   ],
   "source": [
    "# Check columns' data types and count \n",
    "\n",
    "df.info()"
   ]
  },
  {
   "cell_type": "code",
   "execution_count": 10,
   "id": "13bc48b6",
   "metadata": {},
   "outputs": [
    {
     "data": {
      "text/plain": [
       "product_id             0\n",
       "product_name           0\n",
       "category               0\n",
       "discounted_price       0\n",
       "actual_price           0\n",
       "discount_percentage    0\n",
       "rating                 0\n",
       "rating_count           2\n",
       "about_product          0\n",
       "user_id                0\n",
       "user_name              0\n",
       "review_id              0\n",
       "review_title           0\n",
       "review_content         0\n",
       "img_link               0\n",
       "product_link           0\n",
       "dtype: int64"
      ]
     },
     "execution_count": 10,
     "metadata": {},
     "output_type": "execute_result"
    }
   ],
   "source": [
    "# Check null columns\n",
    "\n",
    "df.isna().sum()"
   ]
  },
  {
   "cell_type": "code",
   "execution_count": 11,
   "id": "dbb2b5f1",
   "metadata": {},
   "outputs": [
    {
     "data": {
      "text/plain": [
       "(1463, 16)"
      ]
     },
     "execution_count": 11,
     "metadata": {},
     "output_type": "execute_result"
    }
   ],
   "source": [
    "# Drop empty rows\n",
    "\n",
    "df.dropna(how='any', inplace=True)\n",
    "df.shape"
   ]
  },
  {
   "cell_type": "code",
   "execution_count": 12,
   "id": "7063c33e",
   "metadata": {},
   "outputs": [
    {
     "data": {
      "text/plain": [
       "(1349, 16)"
      ]
     },
     "execution_count": 12,
     "metadata": {},
     "output_type": "execute_result"
    }
   ],
   "source": [
    "# Drop duplicates\n",
    "\n",
    "df = df.drop_duplicates(subset=['product_id'])\n",
    "df.shape"
   ]
  },
  {
   "cell_type": "code",
   "execution_count": 13,
   "id": "7318516f",
   "metadata": {},
   "outputs": [],
   "source": [
    "# Checkpoint: Ensure no more duplicates\n",
    "\n",
    "assert df.product_id.duplicated().sum()== 0 , \"Duplicate product_ids still present\""
   ]
  },
  {
   "cell_type": "code",
   "execution_count": 14,
   "id": "d29a3f28",
   "metadata": {},
   "outputs": [
    {
     "data": {
      "text/html": [
       "<div>\n",
       "<style scoped>\n",
       "    .dataframe tbody tr th:only-of-type {\n",
       "        vertical-align: middle;\n",
       "    }\n",
       "\n",
       "    .dataframe tbody tr th {\n",
       "        vertical-align: top;\n",
       "    }\n",
       "\n",
       "    .dataframe thead th {\n",
       "        text-align: right;\n",
       "    }\n",
       "</style>\n",
       "<table border=\"1\" class=\"dataframe\">\n",
       "  <thead>\n",
       "    <tr style=\"text-align: right;\">\n",
       "      <th></th>\n",
       "      <th>product_id</th>\n",
       "      <th>product_name</th>\n",
       "      <th>category</th>\n",
       "      <th>discounted_price</th>\n",
       "      <th>actual_price</th>\n",
       "      <th>discount_percentage</th>\n",
       "      <th>rating</th>\n",
       "      <th>rating_count</th>\n",
       "      <th>about_product</th>\n",
       "      <th>user_id</th>\n",
       "      <th>user_name</th>\n",
       "      <th>review_id</th>\n",
       "      <th>review_title</th>\n",
       "      <th>review_content</th>\n",
       "      <th>img_link</th>\n",
       "      <th>product_link</th>\n",
       "    </tr>\n",
       "  </thead>\n",
       "  <tbody>\n",
       "    <tr>\n",
       "      <th>0</th>\n",
       "      <td>B07JW9H4J1</td>\n",
       "      <td>Wayona Nylon Braided USB to Lightning Fast Cha...</td>\n",
       "      <td>Computers&amp;Accessories|Accessories&amp;Peripherals|...</td>\n",
       "      <td>399.0</td>\n",
       "      <td>1099.0</td>\n",
       "      <td>64.0</td>\n",
       "      <td>4.2</td>\n",
       "      <td>24269.0</td>\n",
       "      <td>High Compatibility : Compatible With iPhone 12...</td>\n",
       "      <td>AG3D6O4STAQKAY2UVGEUV46KN35Q,AHMY5CWJMMK5BJRBB...</td>\n",
       "      <td>Manav,Adarsh gupta,Sundeep,S.Sayeed Ahmed,jasp...</td>\n",
       "      <td>R3HXWT0LRP0NMF,R2AJM3LFTLZHFO,R6AQJGUP6P86,R1K...</td>\n",
       "      <td>Satisfied,Charging is really fast,Value for mo...</td>\n",
       "      <td>Looks durable Charging is fine tooNo complains...</td>\n",
       "      <td>https://m.media-amazon.com/images/W/WEBP_40237...</td>\n",
       "      <td>https://www.amazon.in/Wayona-Braided-WN3LG1-Sy...</td>\n",
       "    </tr>\n",
       "    <tr>\n",
       "      <th>1</th>\n",
       "      <td>B098NS6PVG</td>\n",
       "      <td>Ambrane Unbreakable 60W / 3A Fast Charging 1.5...</td>\n",
       "      <td>Computers&amp;Accessories|Accessories&amp;Peripherals|...</td>\n",
       "      <td>199.0</td>\n",
       "      <td>349.0</td>\n",
       "      <td>43.0</td>\n",
       "      <td>4.0</td>\n",
       "      <td>43994.0</td>\n",
       "      <td>Compatible with all Type C enabled devices, be...</td>\n",
       "      <td>AECPFYFQVRUWC3KGNLJIOREFP5LQ,AGYYVPDD7YG7FYNBX...</td>\n",
       "      <td>ArdKn,Nirbhay kumar,Sagar Viswanathan,Asp,Plac...</td>\n",
       "      <td>RGIQEG07R9HS2,R1SMWZQ86XIN8U,R2J3Y1WL29GWDE,RY...</td>\n",
       "      <td>A Good Braided Cable for Your Type C Device,Go...</td>\n",
       "      <td>I ordered this cable to connect my phone to An...</td>\n",
       "      <td>https://m.media-amazon.com/images/W/WEBP_40237...</td>\n",
       "      <td>https://www.amazon.in/Ambrane-Unbreakable-Char...</td>\n",
       "    </tr>\n",
       "    <tr>\n",
       "      <th>2</th>\n",
       "      <td>B096MSW6CT</td>\n",
       "      <td>Sounce Fast Phone Charging Cable &amp; Data Sync U...</td>\n",
       "      <td>Computers&amp;Accessories|Accessories&amp;Peripherals|...</td>\n",
       "      <td>199.0</td>\n",
       "      <td>1899.0</td>\n",
       "      <td>90.0</td>\n",
       "      <td>3.9</td>\n",
       "      <td>7928.0</td>\n",
       "      <td>【 Fast Charger&amp; Data Sync】-With built-in safet...</td>\n",
       "      <td>AGU3BBQ2V2DDAMOAKGFAWDDQ6QHA,AESFLDV2PT363T2AQ...</td>\n",
       "      <td>Kunal,Himanshu,viswanath,sai niharka,saqib mal...</td>\n",
       "      <td>R3J3EQQ9TZI5ZJ,R3E7WBGK7ID0KV,RWU79XKQ6I1QF,R2...</td>\n",
       "      <td>Good speed for earlier versions,Good Product,W...</td>\n",
       "      <td>Not quite durable and sturdy,https://m.media-a...</td>\n",
       "      <td>https://m.media-amazon.com/images/W/WEBP_40237...</td>\n",
       "      <td>https://www.amazon.in/Sounce-iPhone-Charging-C...</td>\n",
       "    </tr>\n",
       "    <tr>\n",
       "      <th>3</th>\n",
       "      <td>B08HDJ86NZ</td>\n",
       "      <td>boAt Deuce USB 300 2 in 1 Type-C &amp; Micro USB S...</td>\n",
       "      <td>Computers&amp;Accessories|Accessories&amp;Peripherals|...</td>\n",
       "      <td>329.0</td>\n",
       "      <td>699.0</td>\n",
       "      <td>53.0</td>\n",
       "      <td>4.2</td>\n",
       "      <td>94363.0</td>\n",
       "      <td>The boAt Deuce USB 300 2 in 1 cable is compati...</td>\n",
       "      <td>AEWAZDZZJLQUYVOVGBEUKSLXHQ5A,AG5HTSFRRE6NL3M5S...</td>\n",
       "      <td>Omkar dhale,JD,HEMALATHA,Ajwadh a.,amar singh ...</td>\n",
       "      <td>R3EEUZKKK9J36I,R3HJVYCLYOY554,REDECAZ7AMPQC,R1...</td>\n",
       "      <td>Good product,Good one,Nice,Really nice product...</td>\n",
       "      <td>Good product,long wire,Charges good,Nice,I bou...</td>\n",
       "      <td>https://m.media-amazon.com/images/I/41V5FtEWPk...</td>\n",
       "      <td>https://www.amazon.in/Deuce-300-Resistant-Tang...</td>\n",
       "    </tr>\n",
       "    <tr>\n",
       "      <th>4</th>\n",
       "      <td>B08CF3B7N1</td>\n",
       "      <td>Portronics Konnect L 1.2M Fast Charging 3A 8 P...</td>\n",
       "      <td>Computers&amp;Accessories|Accessories&amp;Peripherals|...</td>\n",
       "      <td>154.0</td>\n",
       "      <td>399.0</td>\n",
       "      <td>61.0</td>\n",
       "      <td>4.2</td>\n",
       "      <td>16905.0</td>\n",
       "      <td>[CHARGE &amp; SYNC FUNCTION]- This cable comes wit...</td>\n",
       "      <td>AE3Q6KSUK5P75D5HFYHCRAOLODSA,AFUGIFH5ZAFXRDSZH...</td>\n",
       "      <td>rahuls6099,Swasat Borah,Ajay Wadke,Pranali,RVK...</td>\n",
       "      <td>R1BP4L2HH9TFUP,R16PVJEXKV6QZS,R2UPDB81N66T4P,R...</td>\n",
       "      <td>As good as original,Decent,Good one for second...</td>\n",
       "      <td>Bought this instead of original apple, does th...</td>\n",
       "      <td>https://m.media-amazon.com/images/W/WEBP_40237...</td>\n",
       "      <td>https://www.amazon.in/Portronics-Konnect-POR-1...</td>\n",
       "    </tr>\n",
       "  </tbody>\n",
       "</table>\n",
       "</div>"
      ],
      "text/plain": [
       "   product_id                                       product_name  \\\n",
       "0  B07JW9H4J1  Wayona Nylon Braided USB to Lightning Fast Cha...   \n",
       "1  B098NS6PVG  Ambrane Unbreakable 60W / 3A Fast Charging 1.5...   \n",
       "2  B096MSW6CT  Sounce Fast Phone Charging Cable & Data Sync U...   \n",
       "3  B08HDJ86NZ  boAt Deuce USB 300 2 in 1 Type-C & Micro USB S...   \n",
       "4  B08CF3B7N1  Portronics Konnect L 1.2M Fast Charging 3A 8 P...   \n",
       "\n",
       "                                            category  discounted_price  \\\n",
       "0  Computers&Accessories|Accessories&Peripherals|...             399.0   \n",
       "1  Computers&Accessories|Accessories&Peripherals|...             199.0   \n",
       "2  Computers&Accessories|Accessories&Peripherals|...             199.0   \n",
       "3  Computers&Accessories|Accessories&Peripherals|...             329.0   \n",
       "4  Computers&Accessories|Accessories&Peripherals|...             154.0   \n",
       "\n",
       "   actual_price  discount_percentage  rating  rating_count  \\\n",
       "0        1099.0                 64.0     4.2       24269.0   \n",
       "1         349.0                 43.0     4.0       43994.0   \n",
       "2        1899.0                 90.0     3.9        7928.0   \n",
       "3         699.0                 53.0     4.2       94363.0   \n",
       "4         399.0                 61.0     4.2       16905.0   \n",
       "\n",
       "                                       about_product  \\\n",
       "0  High Compatibility : Compatible With iPhone 12...   \n",
       "1  Compatible with all Type C enabled devices, be...   \n",
       "2  【 Fast Charger& Data Sync】-With built-in safet...   \n",
       "3  The boAt Deuce USB 300 2 in 1 cable is compati...   \n",
       "4  [CHARGE & SYNC FUNCTION]- This cable comes wit...   \n",
       "\n",
       "                                             user_id  \\\n",
       "0  AG3D6O4STAQKAY2UVGEUV46KN35Q,AHMY5CWJMMK5BJRBB...   \n",
       "1  AECPFYFQVRUWC3KGNLJIOREFP5LQ,AGYYVPDD7YG7FYNBX...   \n",
       "2  AGU3BBQ2V2DDAMOAKGFAWDDQ6QHA,AESFLDV2PT363T2AQ...   \n",
       "3  AEWAZDZZJLQUYVOVGBEUKSLXHQ5A,AG5HTSFRRE6NL3M5S...   \n",
       "4  AE3Q6KSUK5P75D5HFYHCRAOLODSA,AFUGIFH5ZAFXRDSZH...   \n",
       "\n",
       "                                           user_name  \\\n",
       "0  Manav,Adarsh gupta,Sundeep,S.Sayeed Ahmed,jasp...   \n",
       "1  ArdKn,Nirbhay kumar,Sagar Viswanathan,Asp,Plac...   \n",
       "2  Kunal,Himanshu,viswanath,sai niharka,saqib mal...   \n",
       "3  Omkar dhale,JD,HEMALATHA,Ajwadh a.,amar singh ...   \n",
       "4  rahuls6099,Swasat Borah,Ajay Wadke,Pranali,RVK...   \n",
       "\n",
       "                                           review_id  \\\n",
       "0  R3HXWT0LRP0NMF,R2AJM3LFTLZHFO,R6AQJGUP6P86,R1K...   \n",
       "1  RGIQEG07R9HS2,R1SMWZQ86XIN8U,R2J3Y1WL29GWDE,RY...   \n",
       "2  R3J3EQQ9TZI5ZJ,R3E7WBGK7ID0KV,RWU79XKQ6I1QF,R2...   \n",
       "3  R3EEUZKKK9J36I,R3HJVYCLYOY554,REDECAZ7AMPQC,R1...   \n",
       "4  R1BP4L2HH9TFUP,R16PVJEXKV6QZS,R2UPDB81N66T4P,R...   \n",
       "\n",
       "                                        review_title  \\\n",
       "0  Satisfied,Charging is really fast,Value for mo...   \n",
       "1  A Good Braided Cable for Your Type C Device,Go...   \n",
       "2  Good speed for earlier versions,Good Product,W...   \n",
       "3  Good product,Good one,Nice,Really nice product...   \n",
       "4  As good as original,Decent,Good one for second...   \n",
       "\n",
       "                                      review_content  \\\n",
       "0  Looks durable Charging is fine tooNo complains...   \n",
       "1  I ordered this cable to connect my phone to An...   \n",
       "2  Not quite durable and sturdy,https://m.media-a...   \n",
       "3  Good product,long wire,Charges good,Nice,I bou...   \n",
       "4  Bought this instead of original apple, does th...   \n",
       "\n",
       "                                            img_link  \\\n",
       "0  https://m.media-amazon.com/images/W/WEBP_40237...   \n",
       "1  https://m.media-amazon.com/images/W/WEBP_40237...   \n",
       "2  https://m.media-amazon.com/images/W/WEBP_40237...   \n",
       "3  https://m.media-amazon.com/images/I/41V5FtEWPk...   \n",
       "4  https://m.media-amazon.com/images/W/WEBP_40237...   \n",
       "\n",
       "                                        product_link  \n",
       "0  https://www.amazon.in/Wayona-Braided-WN3LG1-Sy...  \n",
       "1  https://www.amazon.in/Ambrane-Unbreakable-Char...  \n",
       "2  https://www.amazon.in/Sounce-iPhone-Charging-C...  \n",
       "3  https://www.amazon.in/Deuce-300-Resistant-Tang...  \n",
       "4  https://www.amazon.in/Portronics-Konnect-POR-1...  "
      ]
     },
     "execution_count": 14,
     "metadata": {},
     "output_type": "execute_result"
    }
   ],
   "source": [
    "# Transform the numeric columns\n",
    "\n",
    "numeric_columns = [ 'discounted_price',  'actual_price', 'discount_percentage', 'rating' ,'rating_count']\n",
    "\n",
    "for col in numeric_columns:\n",
    "    df[col] = df[col].str.translate(str.maketrans({'₹': None, ',': None, '%': None, '/':None, '|':None}))\n",
    "\n",
    "    # Coerce and put NaN for plain char/string entries\n",
    "    df[col] = df[col].apply(pd.to_numeric, errors='coerce')\n",
    "    # df[col].dropna(how='any', axis=0, inplace=True)\n",
    "\n",
    "    df[col] = df[col].astype('float')\n",
    "\n",
    "df.head()"
   ]
  },
  {
   "cell_type": "code",
   "execution_count": 15,
   "id": "1f4d354a",
   "metadata": {},
   "outputs": [
    {
     "name": "stdout",
     "output_type": "stream",
     "text": [
      "<class 'pandas.core.frame.DataFrame'>\n",
      "Index: 1349 entries, 0 to 1464\n",
      "Data columns (total 16 columns):\n",
      " #   Column               Non-Null Count  Dtype  \n",
      "---  ------               --------------  -----  \n",
      " 0   product_id           1349 non-null   object \n",
      " 1   product_name         1349 non-null   object \n",
      " 2   category             1349 non-null   object \n",
      " 3   discounted_price     1349 non-null   float64\n",
      " 4   actual_price         1349 non-null   float64\n",
      " 5   discount_percentage  1349 non-null   float64\n",
      " 6   rating               1348 non-null   float64\n",
      " 7   rating_count         1349 non-null   float64\n",
      " 8   about_product        1349 non-null   object \n",
      " 9   user_id              1349 non-null   object \n",
      " 10  user_name            1349 non-null   object \n",
      " 11  review_id            1349 non-null   object \n",
      " 12  review_title         1349 non-null   object \n",
      " 13  review_content       1349 non-null   object \n",
      " 14  img_link             1349 non-null   object \n",
      " 15  product_link         1349 non-null   object \n",
      "dtypes: float64(5), object(11)\n",
      "memory usage: 179.2+ KB\n"
     ]
    }
   ],
   "source": [
    "# Verify the transformation result for  numeric columns\n",
    "\n",
    "df.info()"
   ]
  },
  {
   "cell_type": "code",
   "execution_count": 16,
   "id": "e429b487",
   "metadata": {},
   "outputs": [],
   "source": [
    "# [Checkpoint]: Assert numeric columns' dtypes should be numeric, specifically float32\n",
    "\n",
    "import numbers\n",
    "\n",
    "for col in numeric_columns:\n",
    "    # assert str(df[col].dtype) == 'float32', f'Column {col} conversion to float32 failed!'\n",
    "    assert issubclass(df[col].dtype.type, numbers.Number), f'Column {col} conversion to float32 failed!'"
   ]
  },
  {
   "cell_type": "code",
   "execution_count": 17,
   "id": "67df9252",
   "metadata": {},
   "outputs": [
    {
     "data": {
      "text/plain": [
       "product_id             0\n",
       "product_name           0\n",
       "category               0\n",
       "discounted_price       0\n",
       "actual_price           0\n",
       "discount_percentage    0\n",
       "rating                 1\n",
       "rating_count           0\n",
       "about_product          0\n",
       "user_id                0\n",
       "user_name              0\n",
       "review_id              0\n",
       "review_title           0\n",
       "review_content         0\n",
       "img_link               0\n",
       "product_link           0\n",
       "dtype: int64"
      ]
     },
     "execution_count": 17,
     "metadata": {},
     "output_type": "execute_result"
    }
   ],
   "source": [
    "# Check for null columns \n",
    "\n",
    "df.isna().sum()"
   ]
  },
  {
   "cell_type": "code",
   "execution_count": 18,
   "id": "6cca7d6f",
   "metadata": {},
   "outputs": [],
   "source": [
    "# # Test- Show the null row\n",
    "\n",
    "# df[df.rating.isnull()]"
   ]
  },
  {
   "cell_type": "code",
   "execution_count": 19,
   "id": "e234530c",
   "metadata": {},
   "outputs": [
    {
     "data": {
      "text/plain": [
       "(1348, 16)"
      ]
     },
     "execution_count": 19,
     "metadata": {},
     "output_type": "execute_result"
    }
   ],
   "source": [
    "# Drop empty rows\n",
    "\n",
    "df.dropna(how='any', axis=0, inplace=True)\n",
    "df.shape"
   ]
  },
  {
   "cell_type": "code",
   "execution_count": 20,
   "id": "a8979115",
   "metadata": {},
   "outputs": [],
   "source": [
    "# [Checkpoint] : Ensure no more null columns\n",
    "\n",
    "assert ((df.isna().sum().unique()[0] == 0) & (len(df.isna().sum().unique()) == 1)), 'Null values exists! Check dataframe.'"
   ]
  },
  {
   "cell_type": "markdown",
   "id": "e5206d34",
   "metadata": {},
   "source": [
    "## EDA"
   ]
  },
  {
   "cell_type": "code",
   "execution_count": 21,
   "id": "7a97822b",
   "metadata": {},
   "outputs": [],
   "source": [
    "import seaborn as sns\n",
    "import matplotlib.pyplot as plt"
   ]
  },
  {
   "cell_type": "code",
   "execution_count": 22,
   "id": "9cea0351",
   "metadata": {},
   "outputs": [
    {
     "data": {
      "text/html": [
       "<div>\n",
       "<style scoped>\n",
       "    .dataframe tbody tr th:only-of-type {\n",
       "        vertical-align: middle;\n",
       "    }\n",
       "\n",
       "    .dataframe tbody tr th {\n",
       "        vertical-align: top;\n",
       "    }\n",
       "\n",
       "    .dataframe thead th {\n",
       "        text-align: right;\n",
       "    }\n",
       "</style>\n",
       "<table border=\"1\" class=\"dataframe\">\n",
       "  <thead>\n",
       "    <tr style=\"text-align: right;\">\n",
       "      <th></th>\n",
       "      <th>discounted_price</th>\n",
       "      <th>actual_price</th>\n",
       "      <th>discount_percentage</th>\n",
       "      <th>rating</th>\n",
       "      <th>rating_count</th>\n",
       "    </tr>\n",
       "  </thead>\n",
       "  <tbody>\n",
       "    <tr>\n",
       "      <th>count</th>\n",
       "      <td>1348.000000</td>\n",
       "      <td>1348.000000</td>\n",
       "      <td>1348.000000</td>\n",
       "      <td>1348.000000</td>\n",
       "      <td>1348.000000</td>\n",
       "    </tr>\n",
       "    <tr>\n",
       "      <th>mean</th>\n",
       "      <td>3310.267188</td>\n",
       "      <td>5700.506395</td>\n",
       "      <td>46.662463</td>\n",
       "      <td>4.091988</td>\n",
       "      <td>17656.847923</td>\n",
       "    </tr>\n",
       "    <tr>\n",
       "      <th>std</th>\n",
       "      <td>7180.901370</td>\n",
       "      <td>11229.356113</td>\n",
       "      <td>21.607716</td>\n",
       "      <td>0.295139</td>\n",
       "      <td>42158.843602</td>\n",
       "    </tr>\n",
       "    <tr>\n",
       "      <th>min</th>\n",
       "      <td>39.000000</td>\n",
       "      <td>39.000000</td>\n",
       "      <td>0.000000</td>\n",
       "      <td>2.000000</td>\n",
       "      <td>2.000000</td>\n",
       "    </tr>\n",
       "    <tr>\n",
       "      <th>25%</th>\n",
       "      <td>349.000000</td>\n",
       "      <td>899.000000</td>\n",
       "      <td>31.000000</td>\n",
       "      <td>3.900000</td>\n",
       "      <td>1107.500000</td>\n",
       "    </tr>\n",
       "    <tr>\n",
       "      <th>50%</th>\n",
       "      <td>899.000000</td>\n",
       "      <td>1795.000000</td>\n",
       "      <td>49.000000</td>\n",
       "      <td>4.100000</td>\n",
       "      <td>4740.000000</td>\n",
       "    </tr>\n",
       "    <tr>\n",
       "      <th>75%</th>\n",
       "      <td>2184.000000</td>\n",
       "      <td>4592.500000</td>\n",
       "      <td>62.000000</td>\n",
       "      <td>4.300000</td>\n",
       "      <td>16051.500000</td>\n",
       "    </tr>\n",
       "    <tr>\n",
       "      <th>max</th>\n",
       "      <td>77990.000000</td>\n",
       "      <td>139900.000000</td>\n",
       "      <td>94.000000</td>\n",
       "      <td>5.000000</td>\n",
       "      <td>426973.000000</td>\n",
       "    </tr>\n",
       "  </tbody>\n",
       "</table>\n",
       "</div>"
      ],
      "text/plain": [
       "       discounted_price   actual_price  discount_percentage       rating  \\\n",
       "count       1348.000000    1348.000000          1348.000000  1348.000000   \n",
       "mean        3310.267188    5700.506395            46.662463     4.091988   \n",
       "std         7180.901370   11229.356113            21.607716     0.295139   \n",
       "min           39.000000      39.000000             0.000000     2.000000   \n",
       "25%          349.000000     899.000000            31.000000     3.900000   \n",
       "50%          899.000000    1795.000000            49.000000     4.100000   \n",
       "75%         2184.000000    4592.500000            62.000000     4.300000   \n",
       "max        77990.000000  139900.000000            94.000000     5.000000   \n",
       "\n",
       "        rating_count  \n",
       "count    1348.000000  \n",
       "mean    17656.847923  \n",
       "std     42158.843602  \n",
       "min         2.000000  \n",
       "25%      1107.500000  \n",
       "50%      4740.000000  \n",
       "75%     16051.500000  \n",
       "max    426973.000000  "
      ]
     },
     "execution_count": 22,
     "metadata": {},
     "output_type": "execute_result"
    }
   ],
   "source": [
    "# Statistics for numeric columns using describe()\n",
    "\n",
    "df.select_dtypes(exclude='object').describe()"
   ]
  },
  {
   "cell_type": "code",
   "execution_count": 23,
   "id": "812a5eeb",
   "metadata": {},
   "outputs": [
    {
     "data": {
      "text/plain": [
       "<Figure size 1000x1000 with 0 Axes>"
      ]
     },
     "metadata": {},
     "output_type": "display_data"
    },
    {
     "data": {
      "image/png": "[encoded data removed]",
      "text/plain": [
       "<Figure size 1250x1250 with 30 Axes>"
      ]
     },
     "metadata": {},
     "output_type": "display_data"
    }
   ],
   "source": [
    "# Create a pairplot for all numeric columns\n",
    "\n",
    "sns.set_style('dark', {'axes.grid':False})\n",
    "plt.figure(figsize=(10,10))\n",
    "sns.pairplot(df[numeric_columns]).fig.suptitle('Numeric columns Pairplot', y=1.0)\n",
    "plt.tight_layout()\n",
    "plt.show()"
   ]
  },
  {
   "cell_type": "markdown",
   "id": "a23f380e",
   "metadata": {},
   "source": [
    "#### Outlier Detection"
   ]
  },
  {
   "cell_type": "code",
   "execution_count": 24,
   "id": "9ae4982b",
   "metadata": {},
   "outputs": [],
   "source": [
    "# UDF for plotting columns using a boxplot\n",
    "\n",
    "def show_boxplot(data:pd.DataFrame, col:str, title:str) -> None:\n",
    "    plt.figure(figsize=(5,3))\n",
    "    box_rating = sns.boxplot(data=data, x=col)\n",
    "    box_rating.set_title(title)\n",
    "    # plt.xticks(rotation=90)\n",
    "    plt.tight_layout()\n",
    "    plt.show()"
   ]
  },
  {
   "cell_type": "code",
   "execution_count": 25,
   "id": "d99937a3",
   "metadata": {},
   "outputs": [
    {
     "data": {
      "image/png": "[encoded data removed]",
      "text/plain": [
       "<Figure size 500x300 with 1 Axes>"
      ]
     },
     "metadata": {},
     "output_type": "display_data"
    },
    {
     "data": {
      "image/png": "[encoded data removed]",
      "text/plain": [
       "<Figure size 500x300 with 1 Axes>"
      ]
     },
     "metadata": {},
     "output_type": "display_data"
    },
    {
     "data": {
      "image/png": "[encoded data removed]",
      "text/plain": [
       "<Figure size 500x300 with 1 Axes>"
      ]
     },
     "metadata": {},
     "output_type": "display_data"
    },
    {
     "data": {
      "image/png": "[encoded data removed]",
      "text/plain": [
       "<Figure size 500x300 with 1 Axes>"
      ]
     },
     "metadata": {},
     "output_type": "display_data"
    },
    {
     "data": {
      "image/png": "[encoded data removed]",
      "text/plain": [
       "<Figure size 500x300 with 1 Axes>"
      ]
     },
     "metadata": {},
     "output_type": "display_data"
    }
   ],
   "source": [
    "# Check for outliers\n",
    "\n",
    "for col in numeric_columns:\n",
    "\n",
    "    title = f'Boxplot of {col}s'\n",
    "    show_boxplot(df, col, title)"
   ]
  },
  {
   "cell_type": "code",
   "execution_count": 26,
   "id": "b0309af6",
   "metadata": {},
   "outputs": [],
   "source": [
    "# UDF: Function for extracting outliers and non-outliers from a dataframe\n",
    "\n",
    "def process_outliers(data_df: pd.DataFrame, col: str, is_outlier = True) -> pd.DataFrame:\n",
    "    '''Desc: Custom function for extracting outliers or non-outliers depending on the is_outlier argument.\n",
    "    \n",
    "    Input: \n",
    "        data_df: pd.DataFrame - dataframe to process\n",
    "        col: str - column to process\n",
    "        is_outlier: bool - If True (by default) will extract outliers; otherwise, non-outliers'''\n",
    "    \n",
    "    q1 = data_df[col].quantile(0.25)\n",
    "    q3 = data_df[col].quantile(0.75)\n",
    "    iqr = q3 - q1\n",
    "    if is_outlier:\n",
    "        result = data_df[((data_df[col] < (q1 - 1.5 * iqr)) | (data_df[col] > (q3 + 1.5 * iqr)))] #.any(axis=1)]\n",
    "    else:\n",
    "        result = data_df[~((data_df[col] < (q1 - 1.5 * iqr)) | (data_df[col] > (q3 + 1.5 * iqr)))] #.any(axis=1)]\n",
    "        \n",
    "    return result"
   ]
  },
  {
   "cell_type": "code",
   "execution_count": 27,
   "id": "5f69e206",
   "metadata": {},
   "outputs": [
    {
     "data": {
      "text/html": [
       "<div>\n",
       "<style scoped>\n",
       "    .dataframe tbody tr th:only-of-type {\n",
       "        vertical-align: middle;\n",
       "    }\n",
       "\n",
       "    .dataframe tbody tr th {\n",
       "        vertical-align: top;\n",
       "    }\n",
       "\n",
       "    .dataframe thead th {\n",
       "        text-align: right;\n",
       "    }\n",
       "</style>\n",
       "<table border=\"1\" class=\"dataframe\">\n",
       "  <thead>\n",
       "    <tr style=\"text-align: right;\">\n",
       "      <th></th>\n",
       "      <th>product_id</th>\n",
       "      <th>product_name</th>\n",
       "      <th>category</th>\n",
       "      <th>discounted_price</th>\n",
       "      <th>actual_price</th>\n",
       "      <th>discount_percentage</th>\n",
       "      <th>rating</th>\n",
       "      <th>rating_count</th>\n",
       "      <th>about_product</th>\n",
       "      <th>user_id</th>\n",
       "      <th>user_name</th>\n",
       "      <th>review_id</th>\n",
       "      <th>review_title</th>\n",
       "      <th>review_content</th>\n",
       "      <th>img_link</th>\n",
       "      <th>product_link</th>\n",
       "    </tr>\n",
       "  </thead>\n",
       "  <tbody>\n",
       "    <tr>\n",
       "      <th>249</th>\n",
       "      <td>B09WN3SRC7</td>\n",
       "      <td>Sony Bravia 164 cm (65 inches) 4K Ultra HD Sma...</td>\n",
       "      <td>Electronics|HomeTheater,TV&amp;Video|Televisions|S...</td>\n",
       "      <td>77990.0</td>\n",
       "      <td>139900.0</td>\n",
       "      <td>44.0</td>\n",
       "      <td>4.7</td>\n",
       "      <td>5935.0</td>\n",
       "      <td>Resolution: 4K Ultra HD (3840 x 2160) | Refres...</td>\n",
       "      <td>AF6Z2OYIXRPZJHVYN2MFKKYHPHFQ,AH5SAORYVUN5MGIBL...</td>\n",
       "      <td>David P.,Dr. ATUL THAKUR,Shriniwas Patil,Tahir...</td>\n",
       "      <td>R16HCZ0W1TRSMM,R12J7UKQ0FX3O9,R8729SR7LQFUU,R1...</td>\n",
       "      <td>Product installation was excellent  but delive...</td>\n",
       "      <td>The delivery people were not careful with the ...</td>\n",
       "      <td>https://m.media-amazon.com/images/I/51uVckL1jR...</td>\n",
       "      <td>https://www.amazon.in/Sony-Bravia-inches-Googl...</td>\n",
       "    </tr>\n",
       "    <tr>\n",
       "      <th>255</th>\n",
       "      <td>B0BC8BQ432</td>\n",
       "      <td>VU 164 cm (65 inches) The GloLED Series 4K Sma...</td>\n",
       "      <td>Electronics|HomeTheater,TV&amp;Video|Televisions|S...</td>\n",
       "      <td>54990.0</td>\n",
       "      <td>85000.0</td>\n",
       "      <td>35.0</td>\n",
       "      <td>4.3</td>\n",
       "      <td>3587.0</td>\n",
       "      <td>Resolution: 4K Ultra HD (3840x2160) | Refresh ...</td>\n",
       "      <td>AHY6AK5LXBTGXDDXSU57ISMDW55Q,AGULFHMPCHCL32WCI...</td>\n",
       "      <td>UtdBuzz,Mukund Nagvenkar,S.R K.,Pruthvi Raj Goud</td>\n",
       "      <td>R2G4T57OLXDVPL,R3IQ8PWVTWENBY,RH6UHEBP622FT,R3...</td>\n",
       "      <td>Good TV for the price. (But my experience was ...</td>\n",
       "      <td>,Screen quality is good.It's been a month I bo...</td>\n",
       "      <td>https://m.media-amazon.com/images/W/WEBP_40237...</td>\n",
       "      <td>https://www.amazon.in/VU-inches-GloLED-Google-...</td>\n",
       "    </tr>\n",
       "    <tr>\n",
       "      <th>283</th>\n",
       "      <td>B0B3XXSB1K</td>\n",
       "      <td>LG 139 cm (55 inches) 4K Ultra HD Smart LED TV...</td>\n",
       "      <td>Electronics|HomeTheater,TV&amp;Video|Televisions|S...</td>\n",
       "      <td>47990.0</td>\n",
       "      <td>79990.0</td>\n",
       "      <td>40.0</td>\n",
       "      <td>4.3</td>\n",
       "      <td>1376.0</td>\n",
       "      <td>Resolution: 4K Ultra HD (3840x2160) | Refresh ...</td>\n",
       "      <td>AFCWL3MX7BP2ZUDD37MEAENZDQ2A,AGGFXDLCFZMTLJJDR...</td>\n",
       "      <td>Raj Mohammed,Samson,Haroon sayeed,P Imran Khan...</td>\n",
       "      <td>RC3ZLDRM8GA9T,RMDN4PSDM8SKK,R1YFAMDJ7P0SY3,R2W...</td>\n",
       "      <td>Love Amazon but lg is misleading,Amazing produ...</td>\n",
       "      <td>There's no magic remote and lg should include ...</td>\n",
       "      <td>https://m.media-amazon.com/images/W/WEBP_40237...</td>\n",
       "      <td>https://www.amazon.in/LG-inches-Ultra-55UQ7500...</td>\n",
       "    </tr>\n",
       "    <tr>\n",
       "      <th>1354</th>\n",
       "      <td>B09NS5TKPN</td>\n",
       "      <td>LG 1.5 Ton 5 Star AI DUAL Inverter Split AC (C...</td>\n",
       "      <td>Home&amp;Kitchen|Heating,Cooling&amp;AirQuality|AirCon...</td>\n",
       "      <td>42990.0</td>\n",
       "      <td>75990.0</td>\n",
       "      <td>43.0</td>\n",
       "      <td>4.3</td>\n",
       "      <td>3231.0</td>\n",
       "      <td>Split AC with inverter compressor: variable sp...</td>\n",
       "      <td>AGBYWFEGGX6QM6XB3ZPQADKKXAHA,AGU6LHFOEHAFE34AC...</td>\n",
       "      <td>ABHISHEK KUMAR,Nageswar,Denzil,krushna,Brijesh...</td>\n",
       "      <td>R2GZHWNGVMBJFG,R3L27H7N1WH5BG,R200QONLM29B4B,R...</td>\n",
       "      <td>Very nice,Efficient but little costly.,Good pr...</td>\n",
       "      <td>Very nice,Efficiency is good , cost is little ...</td>\n",
       "      <td>https://m.media-amazon.com/images/I/21ywp-zfTj...</td>\n",
       "      <td>https://www.amazon.in/LG-Convertible-Anti-Viru...</td>\n",
       "    </tr>\n",
       "    <tr>\n",
       "      <th>568</th>\n",
       "      <td>B08VB57558</td>\n",
       "      <td>Samsung Galaxy S20 FE 5G (Cloud Navy, 8GB RAM,...</td>\n",
       "      <td>Electronics|Mobiles&amp;Accessories|Smartphones&amp;Ba...</td>\n",
       "      <td>37990.0</td>\n",
       "      <td>74999.0</td>\n",
       "      <td>49.0</td>\n",
       "      <td>4.2</td>\n",
       "      <td>27790.0</td>\n",
       "      <td>5G Ready powered by Qualcomm Snapdragon 865 Oc...</td>\n",
       "      <td>AEGEOVAES62OFGQTSPSDSQ5U7SHA,AGMBYTP5MS3JCQZ2N...</td>\n",
       "      <td>Mohammed Suhail,GVR</td>\n",
       "      <td>R3R5DS04EXELTJ,R3JBXYOBYRX0A8</td>\n",
       "      <td>WORTH BUY ! THE BEST,Good for the price.</td>\n",
       "      <td>It's been 15 days since i using the device ext...</td>\n",
       "      <td>https://m.media-amazon.com/images/I/41ezRvTwca...</td>\n",
       "      <td>https://www.amazon.in/Samsung-Galaxy-Cloud-128...</td>\n",
       "    </tr>\n",
       "    <tr>\n",
       "      <th>...</th>\n",
       "      <td>...</td>\n",
       "      <td>...</td>\n",
       "      <td>...</td>\n",
       "      <td>...</td>\n",
       "      <td>...</td>\n",
       "      <td>...</td>\n",
       "      <td>...</td>\n",
       "      <td>...</td>\n",
       "      <td>...</td>\n",
       "      <td>...</td>\n",
       "      <td>...</td>\n",
       "      <td>...</td>\n",
       "      <td>...</td>\n",
       "      <td>...</td>\n",
       "      <td>...</td>\n",
       "      <td>...</td>\n",
       "    </tr>\n",
       "    <tr>\n",
       "      <th>1438</th>\n",
       "      <td>B08N6P8G5K</td>\n",
       "      <td>INALSA Air Fryer Digital 4L Nutri Fry - 1400W ...</td>\n",
       "      <td>Home&amp;Kitchen|Kitchen&amp;HomeAppliances|SmallKitch...</td>\n",
       "      <td>6790.0</td>\n",
       "      <td>10995.0</td>\n",
       "      <td>38.0</td>\n",
       "      <td>4.5</td>\n",
       "      <td>3192.0</td>\n",
       "      <td>Oil-free fryer: Fryer with Air Crisp Technolog...</td>\n",
       "      <td>AGYYUWOUJKKTMI5CXTJHL6S5YKXQ,AFNA3KTCXDH5PVLFM...</td>\n",
       "      <td>Varun Dubey,Vanessa,sowmya varukuru,Placeholde...</td>\n",
       "      <td>REVG93OC7J7E7,R3P1VSN1MLDAC8,R27M4MEXR2CQKP,RL...</td>\n",
       "      <td>Nice product,Absolutely wonderful! Efficient a...</td>\n",
       "      <td>Nice purchase, Really liked it..,Really easy t...</td>\n",
       "      <td>https://m.media-amazon.com/images/W/WEBP_40237...</td>\n",
       "      <td>https://www.amazon.in/Inalsa-Digital-Fryer-Nut...</td>\n",
       "    </tr>\n",
       "    <tr>\n",
       "      <th>1321</th>\n",
       "      <td>B01892MIPA</td>\n",
       "      <td>AO Smith HSE-VAS-X-015 Storage 15 Litre Vertic...</td>\n",
       "      <td>Home&amp;Kitchen|Heating,Cooling&amp;AirQuality|WaterH...</td>\n",
       "      <td>7349.0</td>\n",
       "      <td>10900.0</td>\n",
       "      <td>33.0</td>\n",
       "      <td>4.2</td>\n",
       "      <td>11957.0</td>\n",
       "      <td>Type: Storage ; Capacity: 15 Litres; Wattage: ...</td>\n",
       "      <td>AG3PLRKXVXLYQ7YHOIU4QVWWFBAQ,AHRU7JSVBHVEBWI2H...</td>\n",
       "      <td>VINAY,uday patil,Amazon Customer,giri raj sing...</td>\n",
       "      <td>R1YVS42PE19S0D,R3DONAXVXXHGDY,R6PIB7C4JS214,R1...</td>\n",
       "      <td>Nice Gyser,Good child I am say,Great product i...</td>\n",
       "      <td>It gives hot water but only after 25 min of ru...</td>\n",
       "      <td>https://m.media-amazon.com/images/I/316y4IIKD6...</td>\n",
       "      <td>https://www.amazon.in/AO-Smith-HSE-VAS-15-Litr...</td>\n",
       "    </tr>\n",
       "    <tr>\n",
       "      <th>1092</th>\n",
       "      <td>B07MKMFKPG</td>\n",
       "      <td>Bosch Pro 1000W Mixer Grinder MGM8842MIN - Black</td>\n",
       "      <td>Home&amp;Kitchen|Kitchen&amp;HomeAppliances|SmallKitch...</td>\n",
       "      <td>6999.0</td>\n",
       "      <td>10590.0</td>\n",
       "      <td>34.0</td>\n",
       "      <td>4.4</td>\n",
       "      <td>11499.0</td>\n",
       "      <td>Uniquely designed blunt PoundingBlade with thi...</td>\n",
       "      <td>AHSLOMUBZXIC52OGKOTLUNTGWYTQ,AHQSHRRCDGZFLTMJR...</td>\n",
       "      <td>ZenGirl,Athulya,Shrinivas C.,Sinduja,Bibek Nar...</td>\n",
       "      <td>R1JTUZX1N4PB0Q,R3B09N3U7H83ID,R1OTV47779RDA9,R...</td>\n",
       "      <td>Heavy duty mixer grinder, delivers what it pro...</td>\n",
       "      <td>Bosch TrueMixx Pro Mixer Grinder 1000 Watt-MGM...</td>\n",
       "      <td>https://m.media-amazon.com/images/W/WEBP_40237...</td>\n",
       "      <td>https://www.amazon.in/Bosch-TrueMixx-Pro-Grind...</td>\n",
       "    </tr>\n",
       "    <tr>\n",
       "      <th>1084</th>\n",
       "      <td>B08GSQXLJ2</td>\n",
       "      <td>Crompton Arno Neo 15-L 5 Star Rated Storage Wa...</td>\n",
       "      <td>Home&amp;Kitchen|Heating,Cooling&amp;AirQuality|WaterH...</td>\n",
       "      <td>6199.0</td>\n",
       "      <td>10400.0</td>\n",
       "      <td>40.0</td>\n",
       "      <td>4.1</td>\n",
       "      <td>14391.0</td>\n",
       "      <td>PRODUCT: Crompton's energy efficient storage w...</td>\n",
       "      <td>AGNRGEU74CPJRWEMJZHU67GWHETQ,AEPDYIUTV6ZZGRHTB...</td>\n",
       "      <td>Ocean,JD,SHIVAM SINGH,Kunal b.,Amazon Customer...</td>\n",
       "      <td>RYZ8HY7V1JOX0,R15W9YNUHPIVOA,R53M82T1POPU,RHIV...</td>\n",
       "      <td>Product is good but the installation provider ...</td>\n",
       "      <td>Amazon delivery was prompt and on time, (recei...</td>\n",
       "      <td>https://m.media-amazon.com/images/W/WEBP_40237...</td>\n",
       "      <td>https://www.amazon.in/Crompton-Arno-Neo-ASWH-3...</td>\n",
       "    </tr>\n",
       "    <tr>\n",
       "      <th>1285</th>\n",
       "      <td>B07SLNG3LW</td>\n",
       "      <td>Inalsa Vacuum Cleaner Wet and Dry Micro WD10 w...</td>\n",
       "      <td>Home&amp;Kitchen|Kitchen&amp;HomeAppliances|Vacuum,Cle...</td>\n",
       "      <td>3859.0</td>\n",
       "      <td>10295.0</td>\n",
       "      <td>63.0</td>\n",
       "      <td>3.9</td>\n",
       "      <td>8095.0</td>\n",
       "      <td>Wet or dry, bagged or bagless - No matter it i...</td>\n",
       "      <td>AE6YWSEP7SYHCL2F5WLM3JLAPTDA,AGMOSQZYENCGDYQFY...</td>\n",
       "      <td>Sunny Senpai,Prashant,chetna,Surendran,Harisha...</td>\n",
       "      <td>RPH459PHQQOP4,R17ZRY0K8T3ZVJ,R1UCB8TXKZ7JE0,R1...</td>\n",
       "      <td>Great value,Very Nice product,Very good produc...</td>\n",
       "      <td>Bought this almost a month ago, so far it work...</td>\n",
       "      <td>https://m.media-amazon.com/images/W/WEBP_40237...</td>\n",
       "      <td>https://www.amazon.in/Inalsa-Micro-WD10-1000W-...</td>\n",
       "    </tr>\n",
       "  </tbody>\n",
       "</table>\n",
       "<p>185 rows × 16 columns</p>\n",
       "</div>"
      ],
      "text/plain": [
       "      product_id                                       product_name  \\\n",
       "249   B09WN3SRC7  Sony Bravia 164 cm (65 inches) 4K Ultra HD Sma...   \n",
       "255   B0BC8BQ432  VU 164 cm (65 inches) The GloLED Series 4K Sma...   \n",
       "283   B0B3XXSB1K  LG 139 cm (55 inches) 4K Ultra HD Smart LED TV...   \n",
       "1354  B09NS5TKPN  LG 1.5 Ton 5 Star AI DUAL Inverter Split AC (C...   \n",
       "568   B08VB57558  Samsung Galaxy S20 FE 5G (Cloud Navy, 8GB RAM,...   \n",
       "...          ...                                                ...   \n",
       "1438  B08N6P8G5K  INALSA Air Fryer Digital 4L Nutri Fry - 1400W ...   \n",
       "1321  B01892MIPA  AO Smith HSE-VAS-X-015 Storage 15 Litre Vertic...   \n",
       "1092  B07MKMFKPG   Bosch Pro 1000W Mixer Grinder MGM8842MIN - Black   \n",
       "1084  B08GSQXLJ2  Crompton Arno Neo 15-L 5 Star Rated Storage Wa...   \n",
       "1285  B07SLNG3LW  Inalsa Vacuum Cleaner Wet and Dry Micro WD10 w...   \n",
       "\n",
       "                                               category  discounted_price  \\\n",
       "249   Electronics|HomeTheater,TV&Video|Televisions|S...           77990.0   \n",
       "255   Electronics|HomeTheater,TV&Video|Televisions|S...           54990.0   \n",
       "283   Electronics|HomeTheater,TV&Video|Televisions|S...           47990.0   \n",
       "1354  Home&Kitchen|Heating,Cooling&AirQuality|AirCon...           42990.0   \n",
       "568   Electronics|Mobiles&Accessories|Smartphones&Ba...           37990.0   \n",
       "...                                                 ...               ...   \n",
       "1438  Home&Kitchen|Kitchen&HomeAppliances|SmallKitch...            6790.0   \n",
       "1321  Home&Kitchen|Heating,Cooling&AirQuality|WaterH...            7349.0   \n",
       "1092  Home&Kitchen|Kitchen&HomeAppliances|SmallKitch...            6999.0   \n",
       "1084  Home&Kitchen|Heating,Cooling&AirQuality|WaterH...            6199.0   \n",
       "1285  Home&Kitchen|Kitchen&HomeAppliances|Vacuum,Cle...            3859.0   \n",
       "\n",
       "      actual_price  discount_percentage  rating  rating_count  \\\n",
       "249       139900.0                 44.0     4.7        5935.0   \n",
       "255        85000.0                 35.0     4.3        3587.0   \n",
       "283        79990.0                 40.0     4.3        1376.0   \n",
       "1354       75990.0                 43.0     4.3        3231.0   \n",
       "568        74999.0                 49.0     4.2       27790.0   \n",
       "...            ...                  ...     ...           ...   \n",
       "1438       10995.0                 38.0     4.5        3192.0   \n",
       "1321       10900.0                 33.0     4.2       11957.0   \n",
       "1092       10590.0                 34.0     4.4       11499.0   \n",
       "1084       10400.0                 40.0     4.1       14391.0   \n",
       "1285       10295.0                 63.0     3.9        8095.0   \n",
       "\n",
       "                                          about_product  \\\n",
       "249   Resolution: 4K Ultra HD (3840 x 2160) | Refres...   \n",
       "255   Resolution: 4K Ultra HD (3840x2160) | Refresh ...   \n",
       "283   Resolution: 4K Ultra HD (3840x2160) | Refresh ...   \n",
       "1354  Split AC with inverter compressor: variable sp...   \n",
       "568   5G Ready powered by Qualcomm Snapdragon 865 Oc...   \n",
       "...                                                 ...   \n",
       "1438  Oil-free fryer: Fryer with Air Crisp Technolog...   \n",
       "1321  Type: Storage ; Capacity: 15 Litres; Wattage: ...   \n",
       "1092  Uniquely designed blunt PoundingBlade with thi...   \n",
       "1084  PRODUCT: Crompton's energy efficient storage w...   \n",
       "1285  Wet or dry, bagged or bagless - No matter it i...   \n",
       "\n",
       "                                                user_id  \\\n",
       "249   AF6Z2OYIXRPZJHVYN2MFKKYHPHFQ,AH5SAORYVUN5MGIBL...   \n",
       "255   AHY6AK5LXBTGXDDXSU57ISMDW55Q,AGULFHMPCHCL32WCI...   \n",
       "283   AFCWL3MX7BP2ZUDD37MEAENZDQ2A,AGGFXDLCFZMTLJJDR...   \n",
       "1354  AGBYWFEGGX6QM6XB3ZPQADKKXAHA,AGU6LHFOEHAFE34AC...   \n",
       "568   AEGEOVAES62OFGQTSPSDSQ5U7SHA,AGMBYTP5MS3JCQZ2N...   \n",
       "...                                                 ...   \n",
       "1438  AGYYUWOUJKKTMI5CXTJHL6S5YKXQ,AFNA3KTCXDH5PVLFM...   \n",
       "1321  AG3PLRKXVXLYQ7YHOIU4QVWWFBAQ,AHRU7JSVBHVEBWI2H...   \n",
       "1092  AHSLOMUBZXIC52OGKOTLUNTGWYTQ,AHQSHRRCDGZFLTMJR...   \n",
       "1084  AGNRGEU74CPJRWEMJZHU67GWHETQ,AEPDYIUTV6ZZGRHTB...   \n",
       "1285  AE6YWSEP7SYHCL2F5WLM3JLAPTDA,AGMOSQZYENCGDYQFY...   \n",
       "\n",
       "                                              user_name  \\\n",
       "249   David P.,Dr. ATUL THAKUR,Shriniwas Patil,Tahir...   \n",
       "255    UtdBuzz,Mukund Nagvenkar,S.R K.,Pruthvi Raj Goud   \n",
       "283   Raj Mohammed,Samson,Haroon sayeed,P Imran Khan...   \n",
       "1354  ABHISHEK KUMAR,Nageswar,Denzil,krushna,Brijesh...   \n",
       "568                                 Mohammed Suhail,GVR   \n",
       "...                                                 ...   \n",
       "1438  Varun Dubey,Vanessa,sowmya varukuru,Placeholde...   \n",
       "1321  VINAY,uday patil,Amazon Customer,giri raj sing...   \n",
       "1092  ZenGirl,Athulya,Shrinivas C.,Sinduja,Bibek Nar...   \n",
       "1084  Ocean,JD,SHIVAM SINGH,Kunal b.,Amazon Customer...   \n",
       "1285  Sunny Senpai,Prashant,chetna,Surendran,Harisha...   \n",
       "\n",
       "                                              review_id  \\\n",
       "249   R16HCZ0W1TRSMM,R12J7UKQ0FX3O9,R8729SR7LQFUU,R1...   \n",
       "255   R2G4T57OLXDVPL,R3IQ8PWVTWENBY,RH6UHEBP622FT,R3...   \n",
       "283   RC3ZLDRM8GA9T,RMDN4PSDM8SKK,R1YFAMDJ7P0SY3,R2W...   \n",
       "1354  R2GZHWNGVMBJFG,R3L27H7N1WH5BG,R200QONLM29B4B,R...   \n",
       "568                       R3R5DS04EXELTJ,R3JBXYOBYRX0A8   \n",
       "...                                                 ...   \n",
       "1438  REVG93OC7J7E7,R3P1VSN1MLDAC8,R27M4MEXR2CQKP,RL...   \n",
       "1321  R1YVS42PE19S0D,R3DONAXVXXHGDY,R6PIB7C4JS214,R1...   \n",
       "1092  R1JTUZX1N4PB0Q,R3B09N3U7H83ID,R1OTV47779RDA9,R...   \n",
       "1084  RYZ8HY7V1JOX0,R15W9YNUHPIVOA,R53M82T1POPU,RHIV...   \n",
       "1285  RPH459PHQQOP4,R17ZRY0K8T3ZVJ,R1UCB8TXKZ7JE0,R1...   \n",
       "\n",
       "                                           review_title  \\\n",
       "249   Product installation was excellent  but delive...   \n",
       "255   Good TV for the price. (But my experience was ...   \n",
       "283   Love Amazon but lg is misleading,Amazing produ...   \n",
       "1354  Very nice,Efficient but little costly.,Good pr...   \n",
       "568            WORTH BUY ! THE BEST,Good for the price.   \n",
       "...                                                 ...   \n",
       "1438  Nice product,Absolutely wonderful! Efficient a...   \n",
       "1321  Nice Gyser,Good child I am say,Great product i...   \n",
       "1092  Heavy duty mixer grinder, delivers what it pro...   \n",
       "1084  Product is good but the installation provider ...   \n",
       "1285  Great value,Very Nice product,Very good produc...   \n",
       "\n",
       "                                         review_content  \\\n",
       "249   The delivery people were not careful with the ...   \n",
       "255   ,Screen quality is good.It's been a month I bo...   \n",
       "283   There's no magic remote and lg should include ...   \n",
       "1354  Very nice,Efficiency is good , cost is little ...   \n",
       "568   It's been 15 days since i using the device ext...   \n",
       "...                                                 ...   \n",
       "1438  Nice purchase, Really liked it..,Really easy t...   \n",
       "1321  It gives hot water but only after 25 min of ru...   \n",
       "1092  Bosch TrueMixx Pro Mixer Grinder 1000 Watt-MGM...   \n",
       "1084  Amazon delivery was prompt and on time, (recei...   \n",
       "1285  Bought this almost a month ago, so far it work...   \n",
       "\n",
       "                                               img_link  \\\n",
       "249   https://m.media-amazon.com/images/I/51uVckL1jR...   \n",
       "255   https://m.media-amazon.com/images/W/WEBP_40237...   \n",
       "283   https://m.media-amazon.com/images/W/WEBP_40237...   \n",
       "1354  https://m.media-amazon.com/images/I/21ywp-zfTj...   \n",
       "568   https://m.media-amazon.com/images/I/41ezRvTwca...   \n",
       "...                                                 ...   \n",
       "1438  https://m.media-amazon.com/images/W/WEBP_40237...   \n",
       "1321  https://m.media-amazon.com/images/I/316y4IIKD6...   \n",
       "1092  https://m.media-amazon.com/images/W/WEBP_40237...   \n",
       "1084  https://m.media-amazon.com/images/W/WEBP_40237...   \n",
       "1285  https://m.media-amazon.com/images/W/WEBP_40237...   \n",
       "\n",
       "                                           product_link  \n",
       "249   https://www.amazon.in/Sony-Bravia-inches-Googl...  \n",
       "255   https://www.amazon.in/VU-inches-GloLED-Google-...  \n",
       "283   https://www.amazon.in/LG-inches-Ultra-55UQ7500...  \n",
       "1354  https://www.amazon.in/LG-Convertible-Anti-Viru...  \n",
       "568   https://www.amazon.in/Samsung-Galaxy-Cloud-128...  \n",
       "...                                                 ...  \n",
       "1438  https://www.amazon.in/Inalsa-Digital-Fryer-Nut...  \n",
       "1321  https://www.amazon.in/AO-Smith-HSE-VAS-15-Litr...  \n",
       "1092  https://www.amazon.in/Bosch-TrueMixx-Pro-Grind...  \n",
       "1084  https://www.amazon.in/Crompton-Arno-Neo-ASWH-3...  \n",
       "1285  https://www.amazon.in/Inalsa-Micro-WD10-1000W-...  \n",
       "\n",
       "[185 rows x 16 columns]"
      ]
     },
     "execution_count": 27,
     "metadata": {},
     "output_type": "execute_result"
    }
   ],
   "source": [
    "# Highly rated items that are outliers\n",
    "\n",
    "df_ol = process_outliers(df, 'actual_price', is_outlier=True)\n",
    "df_ol.sort_values('actual_price', ascending=False)"
   ]
  },
  {
   "cell_type": "code",
   "execution_count": 28,
   "id": "21e062a1",
   "metadata": {},
   "outputs": [
    {
     "data": {
      "text/plain": [
       "category\n",
       "Electronics|HomeTheater,TV&Video|Televisions|SmartTelevisions                                            60\n",
       "Electronics|Mobiles&Accessories|Smartphones&BasicMobiles|Smartphones                                     60\n",
       "Home&Kitchen|Heating,Cooling&AirQuality|WaterHeaters&Geysers|StorageWaterHeaters                          9\n",
       "Home&Kitchen|Kitchen&HomeAppliances|WaterPurifiers&Accessories|WaterFilters&Purifiers                     9\n",
       "Electronics|WearableTechnology|SmartWatches                                                               9\n",
       "Electronics|HomeTheater,TV&Video|Televisions|StandardTelevisions                                          6\n",
       "Home&Kitchen|Heating,Cooling&AirQuality|AirPurifiers|HEPAAirPurifiers                                     4\n",
       "Home&Kitchen|Kitchen&HomeAppliances|Vacuum,Cleaning&Ironing|Vacuums&FloorCare|Vacuums|Wet-DryVacuums      3\n",
       "Home&Kitchen|Kitchen&HomeAppliances|SmallKitchenAppliances|DeepFatFryers|AirFryers                        3\n",
       "Home&Kitchen|Heating,Cooling&AirQuality|RoomHeaters|FanHeaters                                            3\n",
       "Computers&Accessories|Monitors                                                                            2\n",
       "Electronics|HomeTheater,TV&Video|Projectors                                                               2\n",
       "Home&Kitchen|Kitchen&HomeAppliances|Vacuum,Cleaning&Ironing|Vacuums&FloorCare|Vacuums|RoboticVacuums      2\n",
       "Home&Kitchen|Heating,Cooling&AirQuality|AirConditioners|Split-SystemAirConditioners                       1\n",
       "Home&Kitchen|Heating,Cooling&AirQuality|RoomHeaters|ElectricHeaters                                       1\n",
       "Home&Kitchen|Kitchen&HomeAppliances|SmallKitchenAppliances|Juicers|ColdPressJuicers                       1\n",
       "Home&Kitchen|Kitchen&HomeAppliances|Vacuum,Cleaning&Ironing|Vacuums&FloorCare|Vacuums|HandheldVacuums     1\n",
       "Home&Kitchen|Kitchen&HomeAppliances|SewingMachines&Accessories|Sewing&EmbroideryMachines                  1\n",
       "Home&Kitchen|Kitchen&HomeAppliances|SmallKitchenAppliances|MixerGrinders                                  1\n",
       "Home&Kitchen|Heating,Cooling&AirQuality|RoomHeaters                                                       1\n",
       "Computers&Accessories|Laptops|TraditionalLaptops                                                          1\n",
       "Computers&Accessories|Tablets                                                                             1\n",
       "Computers&Accessories|ExternalDevices&DataStorage|ExternalSolidStateDrives                                1\n",
       "Electronics|HomeAudio|Speakers|SoundbarSpeakers                                                           1\n",
       "Electronics|Headphones,Earbuds&Accessories|Headphones|In-Ear                                              1\n",
       "Home&Kitchen|Kitchen&HomeAppliances|SmallKitchenAppliances|StandMixers                                    1\n",
       "Name: count, dtype: int64"
      ]
     },
     "execution_count": 28,
     "metadata": {},
     "output_type": "execute_result"
    }
   ],
   "source": [
    "df_ol.category.value_counts()"
   ]
  },
  {
   "cell_type": "markdown",
   "id": "606d1160",
   "metadata": {},
   "source": [
    "#### Feature correlation"
   ]
  },
  {
   "cell_type": "code",
   "execution_count": 29,
   "id": "e134e2da",
   "metadata": {},
   "outputs": [
    {
     "data": {
      "image/png": "[encoded data removed]",
      "text/plain": [
       "<Figure size 640x480 with 2 Axes>"
      ]
     },
     "metadata": {},
     "output_type": "display_data"
    }
   ],
   "source": [
    "\n",
    "\n",
    "correlation_matrix = df[numeric_columns].corr()\n",
    "heatmap = sns.heatmap(correlation_matrix,  annot=True, cbar_kws={'label':' Pearson Correlation'})\n",
    "heatmap.set_title('Correlation HeatMap for Numeric Columns')\n",
    "plt.tight_layout()\n",
    "plt.show()"
   ]
  },
  {
   "cell_type": "markdown",
   "id": "295aae35",
   "metadata": {},
   "source": [
    "> There is very little correlation between the ratings and actual/discounted price."
   ]
  },
  {
   "cell_type": "code",
   "execution_count": 30,
   "id": "7f65d8c2",
   "metadata": {},
   "outputs": [
    {
     "data": {
      "text/plain": [
       "(1348, 16)"
      ]
     },
     "execution_count": 30,
     "metadata": {},
     "output_type": "execute_result"
    }
   ],
   "source": [
    "df.shape"
   ]
  },
  {
   "cell_type": "markdown",
   "id": "f2bb635b",
   "metadata": {},
   "source": [
    "###  Solution to Cold-Start Problem:"
   ]
  },
  {
   "cell_type": "markdown",
   "id": "e9734fcb",
   "metadata": {},
   "source": [
    "#### 1. Recommending Top Categories"
   ]
  },
  {
   "cell_type": "code",
   "execution_count": 31,
   "id": "9f032376",
   "metadata": {},
   "outputs": [],
   "source": [
    "from inspect import signature\n",
    "from collections import Counter"
   ]
  },
  {
   "cell_type": "code",
   "execution_count": 32,
   "id": "3435bdfb",
   "metadata": {},
   "outputs": [
    {
     "data": {
      "text/plain": [
       "category\n",
       "Computers&Accessories|Accessories&Peripherals|Cables&Accessories|Cables|USBCables                                          159\n",
       "Electronics|Mobiles&Accessories|Smartphones&BasicMobiles|Smartphones                                                        68\n",
       "Electronics|WearableTechnology|SmartWatches                                                                                 62\n",
       "Electronics|HomeTheater,TV&Video|Televisions|SmartTelevisions                                                               60\n",
       "Electronics|Headphones,Earbuds&Accessories|Headphones|In-Ear                                                                51\n",
       "                                                                                                                          ... \n",
       "Electronics|Cameras&Photography|Accessories|Batteries&Chargers|BatteryChargers                                               1\n",
       "Computers&Accessories|NetworkingDevices|DataCards&Dongles                                                                    1\n",
       "Electronics|HomeAudio|Speakers|MultimediaSpeakerSystems                                                                      1\n",
       "OfficeProducts|OfficePaperProducts|Paper|Copy&PrintingPaper|ColouredPaper                                                    1\n",
       "Home&Kitchen|Kitchen&HomeAppliances|Vacuum,Cleaning&Ironing|Vacuums&FloorCare|VacuumAccessories|VacuumBags|HandheldBags      1\n",
       "Name: count, Length: 211, dtype: int64"
      ]
     },
     "execution_count": 32,
     "metadata": {},
     "output_type": "execute_result"
    }
   ],
   "source": [
    "df.category.value_counts()"
   ]
  },
  {
   "cell_type": "code",
   "execution_count": 33,
   "id": "32f07b71",
   "metadata": {},
   "outputs": [],
   "source": [
    "# UDF: count texts in a list\n",
    "\n",
    "def count_list(col: pd.Series) -> Counter:\n",
    "    '''Desc:\n",
    "        Uses collections.Counter function to count elements in a list.\n",
    "        If using a column, make sure to pass a LIST of strings.\n",
    "    Input: Pandas.Series object\n",
    "    Return: collections.Counter object'''\n",
    "    \n",
    "    return Counter( e for entries in col for e in entries)"
   ]
  },
  {
   "cell_type": "code",
   "execution_count": 34,
   "id": "d3f55b45",
   "metadata": {},
   "outputs": [
    {
     "name": "stdout",
     "output_type": "stream",
     "text": [
      "There are 317 in categories\n"
     ]
    },
    {
     "data": {
      "text/plain": [
       "[('Electronics', 490),\n",
       " ('Home&Kitchen', 447),\n",
       " ('Computers&Accessories', 373),\n",
       " ('Kitchen&HomeAppliances', 307),\n",
       " ('Accessories&Peripherals', 305),\n",
       " ('Cables', 190),\n",
       " ('SmallKitchenAppliances', 181),\n",
       " ('Cables&Accessories', 165),\n",
       " ('USBCables', 159),\n",
       " ('HomeTheater,TV&Video', 156)]"
      ]
     },
     "execution_count": 34,
     "metadata": {},
     "output_type": "execute_result"
    }
   ],
   "source": [
    "# Count and extract all categories\n",
    "\n",
    "# df['categories'] = df['category'].apply(lambda x: x.split('|')) \n",
    "l_categories = df['category'].apply(lambda x: x.split('|')) \n",
    "\n",
    "categories = count_list(l_categories)\n",
    "type(categories)\n",
    "print(f'There are {len(categories)} in categories')\n",
    "categories.most_common(10)"
   ]
  },
  {
   "cell_type": "code",
   "execution_count": 35,
   "id": "bc447e53",
   "metadata": {},
   "outputs": [],
   "source": [
    "# Save categories count to a dataframe\n",
    "\n",
    "df_categories = pd.DataFrame( {'category':  [c[0] for c in categories.items()], 'count': [c[1] for c in categories.items()]} )\n",
    "df_categories = df_categories.sort_values('count', ascending=False)"
   ]
  },
  {
   "cell_type": "code",
   "execution_count": 36,
   "id": "81a76c04",
   "metadata": {},
   "outputs": [
    {
     "data": {
      "image/png": "[encoded data removed]",
      "text/plain": [
       "<Figure size 640x480 with 1 Axes>"
      ]
     },
     "metadata": {},
     "output_type": "display_data"
    }
   ],
   "source": [
    "# Plot results\n",
    "\n",
    "bar_categories = sns.barplot(data=df_categories.sort_values('count', ascending=False).head(20), x='category', y='count')\n",
    "bar_categories.set_title('Popular Categories')\n",
    "plt.xticks(rotation=90)\n",
    "plt.show()"
   ]
  },
  {
   "cell_type": "markdown",
   "id": "2cb46ee2",
   "metadata": {},
   "source": [
    "#### 2. Recommending Top-Rated Products per (chosen) category"
   ]
  },
  {
   "cell_type": "code",
   "execution_count": 37,
   "id": "e575fef8",
   "metadata": {},
   "outputs": [],
   "source": [
    "# UDF: Custom function to filter dataframe by selected category\n",
    "\n",
    "def filter_by_category(df_data: pd.DataFrame, category: str) -> pd.DataFrame:\n",
    "    '''Desc:\n",
    "        Drill down dataframe by the desired category.\n",
    "    Input: df_data: pd.DataFrame\n",
    "    Return: df_filtered: pd.DataFrame'''\n",
    "\n",
    "\n",
    "    df_filtered = df_data[df_data['category'].str.contains(category)]\n",
    "    return df_filtered"
   ]
  },
  {
   "cell_type": "code",
   "execution_count": 38,
   "id": "06a1ab23",
   "metadata": {},
   "outputs": [
    {
     "name": "stdout",
     "output_type": "stream",
     "text": [
      "Selected Category: Headphones,Earbuds&Accessories\n"
     ]
    }
   ],
   "source": [
    "# Input Block: Select desired category using the rank (index from prev. step).\n",
    "\n",
    "# rank = input('Select rank:')\n",
    "\n",
    "# Dummy Test: Use #18 for earbuds/headphones category. \n",
    "rank = 18\n",
    "\n",
    "# Retrieve and display the category based on rank\n",
    "\n",
    "selected_category = df_categories.iloc[int(rank),:].category\n",
    "print(f'Selected Category: {selected_category}')"
   ]
  },
  {
   "cell_type": "code",
   "execution_count": 39,
   "id": "308a8381",
   "metadata": {},
   "outputs": [],
   "source": [
    "# Execute filter_by_category function\n",
    "\n",
    "df_filtered_category = filter_by_category(df, selected_category)"
   ]
  },
  {
   "cell_type": "code",
   "execution_count": 40,
   "id": "5632cad5",
   "metadata": {},
   "outputs": [],
   "source": [
    "# Testing :Check if Counter object returns the same number of results from the selected category]\n",
    "\n",
    "test_l_filtered = df_filtered_category['category'].apply(lambda x: x.split('|'))\n",
    "test_cats = count_list(test_l_filtered)"
   ]
  },
  {
   "cell_type": "code",
   "execution_count": 41,
   "id": "b603263c",
   "metadata": {},
   "outputs": [],
   "source": [
    "# Checkpoint: Number of entries in counter result must equal the number of rows in filtered dataframe \n",
    "\n",
    "assert test_cats.get(selected_category) == df_filtered_category.shape[0], \"Results are not equal!\""
   ]
  },
  {
   "cell_type": "code",
   "execution_count": 42,
   "id": "39de6431",
   "metadata": {},
   "outputs": [
    {
     "data": {
      "text/html": [
       "<div>\n",
       "<style scoped>\n",
       "    .dataframe tbody tr th:only-of-type {\n",
       "        vertical-align: middle;\n",
       "    }\n",
       "\n",
       "    .dataframe tbody tr th {\n",
       "        vertical-align: top;\n",
       "    }\n",
       "\n",
       "    .dataframe thead th {\n",
       "        text-align: right;\n",
       "    }\n",
       "</style>\n",
       "<table border=\"1\" class=\"dataframe\">\n",
       "  <thead>\n",
       "    <tr style=\"text-align: right;\">\n",
       "      <th></th>\n",
       "      <th>product_id</th>\n",
       "      <th>product_name</th>\n",
       "      <th>category</th>\n",
       "      <th>discounted_price</th>\n",
       "      <th>actual_price</th>\n",
       "      <th>discount_percentage</th>\n",
       "      <th>rating</th>\n",
       "      <th>rating_count</th>\n",
       "      <th>about_product</th>\n",
       "      <th>user_id</th>\n",
       "      <th>user_name</th>\n",
       "      <th>review_id</th>\n",
       "      <th>review_title</th>\n",
       "      <th>review_content</th>\n",
       "      <th>img_link</th>\n",
       "      <th>product_link</th>\n",
       "    </tr>\n",
       "  </thead>\n",
       "  <tbody>\n",
       "    <tr>\n",
       "      <th>347</th>\n",
       "      <td>B01DEWVZ2C</td>\n",
       "      <td>JBL C100SI Wired In Ear Headphones with Mic, J...</td>\n",
       "      <td>Electronics|Headphones,Earbuds&amp;Accessories|Hea...</td>\n",
       "      <td>599.0</td>\n",
       "      <td>999.0</td>\n",
       "      <td>40.0</td>\n",
       "      <td>4.1</td>\n",
       "      <td>192590.0</td>\n",
       "      <td>JBL Signature Sound|Lightweight and Comfortabl...</td>\n",
       "      <td>AFE54I72EV2YOL6POJCHHP3Q5NWA,AFKLES3QOCRLIMJWH...</td>\n",
       "      <td>Sunny J.,Praveen Pavitrhran,nitesh,Yadav,vansh...</td>\n",
       "      <td>R2NB2K5XC70FKP,R3623Q21H3MKP6,R1XVC6NEYU3ZHV,R...</td>\n",
       "      <td>Good maybe okay,Defective Product Delivered,Am...</td>\n",
       "      <td>The quality is not upto mark for the price pai...</td>\n",
       "      <td>https://m.media-amazon.com/images/I/31NnmYempP...</td>\n",
       "      <td>https://www.amazon.in/JBL-C100SI-Ear-Headphone...</td>\n",
       "    </tr>\n",
       "    <tr>\n",
       "      <th>349</th>\n",
       "      <td>B08D77XZX5</td>\n",
       "      <td>PTron Tangentbeat in-Ear Bluetooth 5.0 Wireles...</td>\n",
       "      <td>Electronics|Headphones,Earbuds&amp;Accessories|Hea...</td>\n",
       "      <td>599.0</td>\n",
       "      <td>2499.0</td>\n",
       "      <td>76.0</td>\n",
       "      <td>3.9</td>\n",
       "      <td>58162.0</td>\n",
       "      <td>Ergonomic Magnetic Earbuds; Secure-fit; Sweat ...</td>\n",
       "      <td>AH4OX4YZN7FYK5EGLIGSPL7V5GEA,AF3P7GAMRCSCUNVGI...</td>\n",
       "      <td>Suleman saifi,Nidhin Nair,RAHUL MEHRA,Uroosa s...</td>\n",
       "      <td>R2RBF2BGJRO7H2,R1OF0G9O7Z6VSU,R30F23SQTDLJPU,R...</td>\n",
       "      <td>this is good product.,Too much bass for my lik...</td>\n",
       "      <td>p tron neckband is good product. when it new s...</td>\n",
       "      <td>https://m.media-amazon.com/images/I/41KBaLUTYH...</td>\n",
       "      <td>https://www.amazon.in/Tangentbeat-Bluetooth-He...</td>\n",
       "    </tr>\n",
       "  </tbody>\n",
       "</table>\n",
       "</div>"
      ],
      "text/plain": [
       "     product_id                                       product_name  \\\n",
       "347  B01DEWVZ2C  JBL C100SI Wired In Ear Headphones with Mic, J...   \n",
       "349  B08D77XZX5  PTron Tangentbeat in-Ear Bluetooth 5.0 Wireles...   \n",
       "\n",
       "                                              category  discounted_price  \\\n",
       "347  Electronics|Headphones,Earbuds&Accessories|Hea...             599.0   \n",
       "349  Electronics|Headphones,Earbuds&Accessories|Hea...             599.0   \n",
       "\n",
       "     actual_price  discount_percentage  rating  rating_count  \\\n",
       "347         999.0                 40.0     4.1      192590.0   \n",
       "349        2499.0                 76.0     3.9       58162.0   \n",
       "\n",
       "                                         about_product  \\\n",
       "347  JBL Signature Sound|Lightweight and Comfortabl...   \n",
       "349  Ergonomic Magnetic Earbuds; Secure-fit; Sweat ...   \n",
       "\n",
       "                                               user_id  \\\n",
       "347  AFE54I72EV2YOL6POJCHHP3Q5NWA,AFKLES3QOCRLIMJWH...   \n",
       "349  AH4OX4YZN7FYK5EGLIGSPL7V5GEA,AF3P7GAMRCSCUNVGI...   \n",
       "\n",
       "                                             user_name  \\\n",
       "347  Sunny J.,Praveen Pavitrhran,nitesh,Yadav,vansh...   \n",
       "349  Suleman saifi,Nidhin Nair,RAHUL MEHRA,Uroosa s...   \n",
       "\n",
       "                                             review_id  \\\n",
       "347  R2NB2K5XC70FKP,R3623Q21H3MKP6,R1XVC6NEYU3ZHV,R...   \n",
       "349  R2RBF2BGJRO7H2,R1OF0G9O7Z6VSU,R30F23SQTDLJPU,R...   \n",
       "\n",
       "                                          review_title  \\\n",
       "347  Good maybe okay,Defective Product Delivered,Am...   \n",
       "349  this is good product.,Too much bass for my lik...   \n",
       "\n",
       "                                        review_content  \\\n",
       "347  The quality is not upto mark for the price pai...   \n",
       "349  p tron neckband is good product. when it new s...   \n",
       "\n",
       "                                              img_link  \\\n",
       "347  https://m.media-amazon.com/images/I/31NnmYempP...   \n",
       "349  https://m.media-amazon.com/images/I/41KBaLUTYH...   \n",
       "\n",
       "                                          product_link  \n",
       "347  https://www.amazon.in/JBL-C100SI-Ear-Headphone...  \n",
       "349  https://www.amazon.in/Tangentbeat-Bluetooth-He...  "
      ]
     },
     "execution_count": 42,
     "metadata": {},
     "output_type": "execute_result"
    }
   ],
   "source": [
    "df_filtered_category.head(2)"
   ]
  },
  {
   "cell_type": "code",
   "execution_count": 48,
   "id": "2ccdde31",
   "metadata": {},
   "outputs": [
    {
     "data": {
      "image/png": "[encoded data removed]",
      "text/plain": [
       "<Figure size 640x480 with 1 Axes>"
      ]
     },
     "metadata": {},
     "output_type": "display_data"
    }
   ],
   "source": [
    "# Plot mean rating distribution\n",
    "\n",
    "sns.kdeplot(data=df_filtered_category, x='rating', fill=True, alpha=0.5)\n",
    "plt.title('Average Ratings distribution')\n",
    "plt.axvline(x=df_filtered_category['rating'].mean(), ls='--', linewidth=1, color='red')\n",
    "plt.show()"
   ]
  },
  {
   "cell_type": "code",
   "execution_count": 49,
   "id": "a949227d",
   "metadata": {},
   "outputs": [
    {
     "name": "stdout",
     "output_type": "stream",
     "text": [
      "Chosen no. of results to display: 10\n"
     ]
    }
   ],
   "source": [
    "# Input Block: Specify the number of Top Results to display\n",
    "\n",
    "# n_result = input('Enter number of results to display')\n",
    "\n",
    "# Dummy Test: Use 10\n",
    "n_result = 10\n",
    "print(f'Chosen no. of results to display: {n_result}')"
   ]
  },
  {
   "cell_type": "markdown",
   "id": "404463bf",
   "metadata": {},
   "source": [
    "<div class=\"alert alert-block alert-info\">\n",
    "The Bayesian Average of the ratings would be a more reliable criteria; however, the rating column already corresponds to the mean or aggregated ratings from from multiple raters/reviewers. As this is the case, the columns, rating and rating count can be used to determine the top rated items per the chosen category. \n",
    "</div>"
   ]
  },
  {
   "cell_type": "code",
   "execution_count": 50,
   "id": "9e71ab60",
   "metadata": {},
   "outputs": [
    {
     "data": {
      "text/html": [
       "<div>\n",
       "<style scoped>\n",
       "    .dataframe tbody tr th:only-of-type {\n",
       "        vertical-align: middle;\n",
       "    }\n",
       "\n",
       "    .dataframe tbody tr th {\n",
       "        vertical-align: top;\n",
       "    }\n",
       "\n",
       "    .dataframe thead th {\n",
       "        text-align: right;\n",
       "    }\n",
       "</style>\n",
       "<table border=\"1\" class=\"dataframe\">\n",
       "  <thead>\n",
       "    <tr style=\"text-align: right;\">\n",
       "      <th></th>\n",
       "      <th>product_id</th>\n",
       "      <th>product_name</th>\n",
       "      <th>rating</th>\n",
       "      <th>rating_count</th>\n",
       "      <th>category</th>\n",
       "    </tr>\n",
       "  </thead>\n",
       "  <tbody>\n",
       "    <tr>\n",
       "      <th>787</th>\n",
       "      <td>B07DKZCZ89</td>\n",
       "      <td>Gizga Essentials Earphone Carrying Case, Multi...</td>\n",
       "      <td>4.3</td>\n",
       "      <td>15032.0</td>\n",
       "      <td>Electronics|Headphones,Earbuds&amp;Accessories|Cases</td>\n",
       "    </tr>\n",
       "    <tr>\n",
       "      <th>1015</th>\n",
       "      <td>B078W65FJ7</td>\n",
       "      <td>boAt BassHeads 900 On-Ear Wired Headphones wit...</td>\n",
       "      <td>4.2</td>\n",
       "      <td>91188.0</td>\n",
       "      <td>Electronics|Headphones,Earbuds&amp;Accessories|Hea...</td>\n",
       "    </tr>\n",
       "    <tr>\n",
       "      <th>912</th>\n",
       "      <td>B08MTLLSL8</td>\n",
       "      <td>boAt Bassheads 102 Wired in Ear Earphones with...</td>\n",
       "      <td>4.2</td>\n",
       "      <td>76042.0</td>\n",
       "      <td>Electronics|Headphones,Earbuds&amp;Accessories|Hea...</td>\n",
       "    </tr>\n",
       "    <tr>\n",
       "      <th>883</th>\n",
       "      <td>B0873L7J6X</td>\n",
       "      <td>Infinity (JBL Glide 510, 72 Hrs Playtime with ...</td>\n",
       "      <td>4.2</td>\n",
       "      <td>42775.0</td>\n",
       "      <td>Electronics|Headphones,Earbuds&amp;Accessories|Hea...</td>\n",
       "    </tr>\n",
       "    <tr>\n",
       "      <th>466</th>\n",
       "      <td>B01F25X6RQ</td>\n",
       "      <td>Samsung Ehs64 Ehs64Avfwecinu Hands-Free Wired ...</td>\n",
       "      <td>4.2</td>\n",
       "      <td>31539.0</td>\n",
       "      <td>Electronics|Headphones,Earbuds&amp;Accessories|Hea...</td>\n",
       "    </tr>\n",
       "    <tr>\n",
       "      <th>523</th>\n",
       "      <td>B01F262EUU</td>\n",
       "      <td>Samsung Original EHS64 Wired in Ear Earphones ...</td>\n",
       "      <td>4.2</td>\n",
       "      <td>31539.0</td>\n",
       "      <td>Electronics|Headphones,Earbuds&amp;Accessories|Hea...</td>\n",
       "    </tr>\n",
       "    <tr>\n",
       "      <th>939</th>\n",
       "      <td>B0B5GJRTHB</td>\n",
       "      <td>Wecool Moonwalk M1 ENC True Wireless in Ear Ea...</td>\n",
       "      <td>4.2</td>\n",
       "      <td>2284.0</td>\n",
       "      <td>Electronics|Headphones,Earbuds&amp;Accessories|Hea...</td>\n",
       "    </tr>\n",
       "    <tr>\n",
       "      <th>620</th>\n",
       "      <td>B07QZ3CZ48</td>\n",
       "      <td>boAt BassHeads 122 Wired Earphones with Heavy ...</td>\n",
       "      <td>4.2</td>\n",
       "      <td>206.0</td>\n",
       "      <td>Electronics|Headphones,Earbuds&amp;Accessories|Hea...</td>\n",
       "    </tr>\n",
       "    <tr>\n",
       "      <th>352</th>\n",
       "      <td>B07GPXXNNG</td>\n",
       "      <td>boAt Bassheads 100 in Ear Wired Earphones with...</td>\n",
       "      <td>4.1</td>\n",
       "      <td>363713.0</td>\n",
       "      <td>Electronics|Headphones,Earbuds&amp;Accessories|Hea...</td>\n",
       "    </tr>\n",
       "    <tr>\n",
       "      <th>400</th>\n",
       "      <td>B07GQD4K6L</td>\n",
       "      <td>boAt Bassheads 100 in Ear Wired Earphones with...</td>\n",
       "      <td>4.1</td>\n",
       "      <td>363713.0</td>\n",
       "      <td>Electronics|Headphones,Earbuds&amp;Accessories|Hea...</td>\n",
       "    </tr>\n",
       "  </tbody>\n",
       "</table>\n",
       "</div>"
      ],
      "text/plain": [
       "      product_id                                       product_name  rating  \\\n",
       "787   B07DKZCZ89  Gizga Essentials Earphone Carrying Case, Multi...     4.3   \n",
       "1015  B078W65FJ7  boAt BassHeads 900 On-Ear Wired Headphones wit...     4.2   \n",
       "912   B08MTLLSL8  boAt Bassheads 102 Wired in Ear Earphones with...     4.2   \n",
       "883   B0873L7J6X  Infinity (JBL Glide 510, 72 Hrs Playtime with ...     4.2   \n",
       "466   B01F25X6RQ  Samsung Ehs64 Ehs64Avfwecinu Hands-Free Wired ...     4.2   \n",
       "523   B01F262EUU  Samsung Original EHS64 Wired in Ear Earphones ...     4.2   \n",
       "939   B0B5GJRTHB  Wecool Moonwalk M1 ENC True Wireless in Ear Ea...     4.2   \n",
       "620   B07QZ3CZ48  boAt BassHeads 122 Wired Earphones with Heavy ...     4.2   \n",
       "352   B07GPXXNNG  boAt Bassheads 100 in Ear Wired Earphones with...     4.1   \n",
       "400   B07GQD4K6L  boAt Bassheads 100 in Ear Wired Earphones with...     4.1   \n",
       "\n",
       "      rating_count                                           category  \n",
       "787        15032.0   Electronics|Headphones,Earbuds&Accessories|Cases  \n",
       "1015       91188.0  Electronics|Headphones,Earbuds&Accessories|Hea...  \n",
       "912        76042.0  Electronics|Headphones,Earbuds&Accessories|Hea...  \n",
       "883        42775.0  Electronics|Headphones,Earbuds&Accessories|Hea...  \n",
       "466        31539.0  Electronics|Headphones,Earbuds&Accessories|Hea...  \n",
       "523        31539.0  Electronics|Headphones,Earbuds&Accessories|Hea...  \n",
       "939         2284.0  Electronics|Headphones,Earbuds&Accessories|Hea...  \n",
       "620          206.0  Electronics|Headphones,Earbuds&Accessories|Hea...  \n",
       "352       363713.0  Electronics|Headphones,Earbuds&Accessories|Hea...  \n",
       "400       363713.0  Electronics|Headphones,Earbuds&Accessories|Hea...  "
      ]
     },
     "execution_count": 50,
     "metadata": {},
     "output_type": "execute_result"
    }
   ],
   "source": [
    "# Show results: Top products from the chosen category\n",
    "\n",
    "df_toprated = df_filtered_category.sort_values(by=['rating', 'rating_count'], ascending=[False,False])\n",
    "df_toprated[['product_id', 'product_name', 'rating', 'rating_count', 'category']].head(int(n_result))"
   ]
  },
  {
   "cell_type": "markdown",
   "id": "68ef1ff4",
   "metadata": {},
   "source": [
    "## PRE-PROCESSING"
   ]
  },
  {
   "cell_type": "code",
   "execution_count": 51,
   "id": "fd5fd36a",
   "metadata": {},
   "outputs": [],
   "source": [
    "from sklearn.feature_extraction.text import TfidfVectorizer\n",
    "from sklearn.metrics.pairwise import cosine_similarity"
   ]
  },
  {
   "cell_type": "markdown",
   "id": "de23fca6",
   "metadata": {},
   "source": [
    "### Content-Based Filtering: Find Similar Products"
   ]
  },
  {
   "cell_type": "code",
   "execution_count": 52,
   "id": "cd7cd86c",
   "metadata": {},
   "outputs": [
    {
     "data": {
      "text/plain": [
       "category\n",
       "Computers&Accessories Accessories&Peripherals Cables&Accessories Cables USBCables                                          159\n",
       "Electronics Mobiles&Accessories Smartphones&BasicMobiles Smartphones                                                        68\n",
       "Electronics WearableTechnology SmartWatches                                                                                 62\n",
       "Electronics HomeTheater,TV&Video Televisions SmartTelevisions                                                               60\n",
       "Electronics Headphones,Earbuds&Accessories Headphones In-Ear                                                                51\n",
       "                                                                                                                          ... \n",
       "Electronics Cameras&Photography Accessories Batteries&Chargers BatteryChargers                                               1\n",
       "Computers&Accessories NetworkingDevices DataCards&Dongles                                                                    1\n",
       "Electronics HomeAudio Speakers MultimediaSpeakerSystems                                                                      1\n",
       "OfficeProducts OfficePaperProducts Paper Copy&PrintingPaper ColouredPaper                                                    1\n",
       "Home&Kitchen Kitchen&HomeAppliances Vacuum,Cleaning&Ironing Vacuums&FloorCare VacuumAccessories VacuumBags HandheldBags      1\n",
       "Name: count, Length: 211, dtype: int64"
      ]
     },
     "execution_count": 52,
     "metadata": {},
     "output_type": "execute_result"
    }
   ],
   "source": [
    "# Split the words in categories column by replacing '|' with ' '\n",
    "\n",
    "df.category = df.category.str.replace('|', ' ')\n",
    "df.category.value_counts()"
   ]
  },
  {
   "cell_type": "code",
   "execution_count": 53,
   "id": "fdee1f02",
   "metadata": {},
   "outputs": [
    {
     "data": {
      "text/html": [
       "<div>\n",
       "<style scoped>\n",
       "    .dataframe tbody tr th:only-of-type {\n",
       "        vertical-align: middle;\n",
       "    }\n",
       "\n",
       "    .dataframe tbody tr th {\n",
       "        vertical-align: top;\n",
       "    }\n",
       "\n",
       "    .dataframe thead th {\n",
       "        text-align: right;\n",
       "    }\n",
       "</style>\n",
       "<table border=\"1\" class=\"dataframe\">\n",
       "  <thead>\n",
       "    <tr style=\"text-align: right;\">\n",
       "      <th></th>\n",
       "      <th>product_id</th>\n",
       "      <th>product_name</th>\n",
       "      <th>category</th>\n",
       "      <th>discounted_price</th>\n",
       "      <th>actual_price</th>\n",
       "      <th>discount_percentage</th>\n",
       "      <th>rating</th>\n",
       "      <th>rating_count</th>\n",
       "      <th>about_product</th>\n",
       "      <th>user_id</th>\n",
       "      <th>user_name</th>\n",
       "      <th>review_id</th>\n",
       "      <th>review_title</th>\n",
       "      <th>review_content</th>\n",
       "      <th>img_link</th>\n",
       "      <th>product_link</th>\n",
       "      <th>feature_group</th>\n",
       "    </tr>\n",
       "  </thead>\n",
       "  <tbody>\n",
       "    <tr>\n",
       "      <th>0</th>\n",
       "      <td>B07JW9H4J1</td>\n",
       "      <td>Wayona Nylon Braided USB to Lightning Fast Cha...</td>\n",
       "      <td>Computers&amp;Accessories Accessories&amp;Peripherals ...</td>\n",
       "      <td>399.0</td>\n",
       "      <td>1099.0</td>\n",
       "      <td>64.0</td>\n",
       "      <td>4.2</td>\n",
       "      <td>24269.0</td>\n",
       "      <td>High Compatibility : Compatible With iPhone 12...</td>\n",
       "      <td>AG3D6O4STAQKAY2UVGEUV46KN35Q,AHMY5CWJMMK5BJRBB...</td>\n",
       "      <td>Manav,Adarsh gupta,Sundeep,S.Sayeed Ahmed,jasp...</td>\n",
       "      <td>R3HXWT0LRP0NMF,R2AJM3LFTLZHFO,R6AQJGUP6P86,R1K...</td>\n",
       "      <td>Satisfied,Charging is really fast,Value for mo...</td>\n",
       "      <td>Looks durable Charging is fine tooNo complains...</td>\n",
       "      <td>https://m.media-amazon.com/images/W/WEBP_40237...</td>\n",
       "      <td>https://www.amazon.in/Wayona-Braided-WN3LG1-Sy...</td>\n",
       "      <td>B07JW9H4J1 Wayona Nylon Braided USB to Lightni...</td>\n",
       "    </tr>\n",
       "    <tr>\n",
       "      <th>1</th>\n",
       "      <td>B098NS6PVG</td>\n",
       "      <td>Ambrane Unbreakable 60W / 3A Fast Charging 1.5...</td>\n",
       "      <td>Computers&amp;Accessories Accessories&amp;Peripherals ...</td>\n",
       "      <td>199.0</td>\n",
       "      <td>349.0</td>\n",
       "      <td>43.0</td>\n",
       "      <td>4.0</td>\n",
       "      <td>43994.0</td>\n",
       "      <td>Compatible with all Type C enabled devices, be...</td>\n",
       "      <td>AECPFYFQVRUWC3KGNLJIOREFP5LQ,AGYYVPDD7YG7FYNBX...</td>\n",
       "      <td>ArdKn,Nirbhay kumar,Sagar Viswanathan,Asp,Plac...</td>\n",
       "      <td>RGIQEG07R9HS2,R1SMWZQ86XIN8U,R2J3Y1WL29GWDE,RY...</td>\n",
       "      <td>A Good Braided Cable for Your Type C Device,Go...</td>\n",
       "      <td>I ordered this cable to connect my phone to An...</td>\n",
       "      <td>https://m.media-amazon.com/images/W/WEBP_40237...</td>\n",
       "      <td>https://www.amazon.in/Ambrane-Unbreakable-Char...</td>\n",
       "      <td>B098NS6PVG Ambrane Unbreakable 60W / 3A Fast C...</td>\n",
       "    </tr>\n",
       "  </tbody>\n",
       "</table>\n",
       "</div>"
      ],
      "text/plain": [
       "   product_id                                       product_name  \\\n",
       "0  B07JW9H4J1  Wayona Nylon Braided USB to Lightning Fast Cha...   \n",
       "1  B098NS6PVG  Ambrane Unbreakable 60W / 3A Fast Charging 1.5...   \n",
       "\n",
       "                                            category  discounted_price  \\\n",
       "0  Computers&Accessories Accessories&Peripherals ...             399.0   \n",
       "1  Computers&Accessories Accessories&Peripherals ...             199.0   \n",
       "\n",
       "   actual_price  discount_percentage  rating  rating_count  \\\n",
       "0        1099.0                 64.0     4.2       24269.0   \n",
       "1         349.0                 43.0     4.0       43994.0   \n",
       "\n",
       "                                       about_product  \\\n",
       "0  High Compatibility : Compatible With iPhone 12...   \n",
       "1  Compatible with all Type C enabled devices, be...   \n",
       "\n",
       "                                             user_id  \\\n",
       "0  AG3D6O4STAQKAY2UVGEUV46KN35Q,AHMY5CWJMMK5BJRBB...   \n",
       "1  AECPFYFQVRUWC3KGNLJIOREFP5LQ,AGYYVPDD7YG7FYNBX...   \n",
       "\n",
       "                                           user_name  \\\n",
       "0  Manav,Adarsh gupta,Sundeep,S.Sayeed Ahmed,jasp...   \n",
       "1  ArdKn,Nirbhay kumar,Sagar Viswanathan,Asp,Plac...   \n",
       "\n",
       "                                           review_id  \\\n",
       "0  R3HXWT0LRP0NMF,R2AJM3LFTLZHFO,R6AQJGUP6P86,R1K...   \n",
       "1  RGIQEG07R9HS2,R1SMWZQ86XIN8U,R2J3Y1WL29GWDE,RY...   \n",
       "\n",
       "                                        review_title  \\\n",
       "0  Satisfied,Charging is really fast,Value for mo...   \n",
       "1  A Good Braided Cable for Your Type C Device,Go...   \n",
       "\n",
       "                                      review_content  \\\n",
       "0  Looks durable Charging is fine tooNo complains...   \n",
       "1  I ordered this cable to connect my phone to An...   \n",
       "\n",
       "                                            img_link  \\\n",
       "0  https://m.media-amazon.com/images/W/WEBP_40237...   \n",
       "1  https://m.media-amazon.com/images/W/WEBP_40237...   \n",
       "\n",
       "                                        product_link  \\\n",
       "0  https://www.amazon.in/Wayona-Braided-WN3LG1-Sy...   \n",
       "1  https://www.amazon.in/Ambrane-Unbreakable-Char...   \n",
       "\n",
       "                                       feature_group  \n",
       "0  B07JW9H4J1 Wayona Nylon Braided USB to Lightni...  \n",
       "1  B098NS6PVG Ambrane Unbreakable 60W / 3A Fast C...  "
      ]
     },
     "execution_count": 53,
     "metadata": {},
     "output_type": "execute_result"
    }
   ],
   "source": [
    "# New column: feature_group = product_id, product_name, category, (TBD: about_product)\n",
    "\n",
    "selected_features = ['product_id', 'product_name', 'category']\n",
    "\n",
    "df['feature_group'] = df[selected_features].agg(' '.join, axis=1)\n",
    "df.head(2)"
   ]
  },
  {
   "cell_type": "code",
   "execution_count": 54,
   "id": "1d26dd91",
   "metadata": {},
   "outputs": [
    {
     "data": {
      "image/png": "[encoded data removed]",
      "text/plain": [
       "<Figure size 640x480 with 1 Axes>"
      ]
     },
     "metadata": {},
     "output_type": "display_data"
    }
   ],
   "source": [
    "# Distribution of word count for About column\n",
    "\n",
    "about_word_count = df.about_product.str.split().str.len()\n",
    "\n",
    "sns.set_style('dark')\n",
    "about_count = sns.histplot(x=about_word_count, bins=20)\n",
    "about_count.set_title('Word Count for About field')\n",
    "plt.show()"
   ]
  },
  {
   "cell_type": "markdown",
   "id": "6ec0efc1",
   "metadata": {},
   "source": [
    "#### Stemming and Tokenization"
   ]
  },
  {
   "cell_type": "code",
   "execution_count": 55,
   "id": "9623b5f9",
   "metadata": {},
   "outputs": [
    {
     "name": "stderr",
     "output_type": "stream",
     "text": [
      "[nltk_data] Downloading package punkt_tab to /home/edu/nltk_data...\n",
      "[nltk_data]   Package punkt_tab is already up-to-date!\n",
      "[nltk_data] Downloading package stopwords to /home/edu/nltk_data...\n",
      "[nltk_data]   Package stopwords is already up-to-date!\n"
     ]
    },
    {
     "data": {
      "text/plain": [
       "True"
      ]
     },
     "execution_count": 55,
     "metadata": {},
     "output_type": "execute_result"
    }
   ],
   "source": [
    "import nltk\n",
    "from nltk.corpus import stopwords\n",
    "from nltk.stem.porter import PorterStemmer\n",
    "\n",
    "nltk.download('punkt_tab')\n",
    "nltk.download('stopwords')"
   ]
  },
  {
   "cell_type": "code",
   "execution_count": 56,
   "id": "964f64e3",
   "metadata": {},
   "outputs": [],
   "source": [
    "# Testing purposes - flag token\n",
    "flag_token = False"
   ]
  },
  {
   "cell_type": "code",
   "execution_count": 57,
   "id": "756948c6",
   "metadata": {},
   "outputs": [],
   "source": [
    "# Stemming and Tokenization instances\n",
    "\n",
    "stemmer = PorterStemmer()\n",
    "stop_words = set(stopwords.words('english'))"
   ]
  },
  {
   "cell_type": "code",
   "execution_count": 58,
   "id": "8ce56d95",
   "metadata": {},
   "outputs": [],
   "source": [
    "# UDF: Custom function for tokenization of texts\n",
    "\n",
    "def tokenizer(txt):\n",
    "\n",
    "    global flag_token\n",
    "    word_tokens = nltk.word_tokenize(txt)\n",
    "    filtered_sentence = [w for w in word_tokens if not w.lower() in stop_words]\n",
    "    filtered_text = [stemmer.stem(text) for text in filtered_sentence]\n",
    "    flag_token = True\n",
    "    return ' '.join(filtered_text)"
   ]
  },
  {
   "cell_type": "code",
   "execution_count": 59,
   "id": "09df5c48",
   "metadata": {},
   "outputs": [],
   "source": [
    "# Apply custom tokenizer to feature_group column\n",
    "\n",
    "df['feature_group'] = df['feature_group'].apply(lambda x: tokenizer(x))"
   ]
  },
  {
   "cell_type": "code",
   "execution_count": 60,
   "id": "f6851ae8",
   "metadata": {},
   "outputs": [
    {
     "data": {
      "text/plain": [
       "array(['b07jw9h4j1 wayona nylon braid usb lightn fast charg data sync cabl compat iphon 13 , 12,11 , x , 8 , 7 , 6 , 5 , ipad air , pro , mini ( 3 ft pack 1 , grey ) comput & accessori accessori & peripher cabl & accessori cabl usbcabl',\n",
       "       'b098ns6pvg ambran unbreak 60w / 3a fast charg 1.5m braid type c cabl smartphon , tablet , laptop & type c devic , pd technolog , 480mbp data sync , quick charg 3.0 ( rct15a , black ) comput & accessori accessori & peripher cabl & accessori cabl usbcabl',\n",
       "       'b096msw6ct sounc fast phone charg cabl & data sync usb cabl compat iphon 13 , 12,11 , x , 8 , 7 , 6 , 5 , ipad air , pro , mini & io devic comput & accessori accessori & peripher cabl & accessori cabl usbcabl',\n",
       "       ...,\n",
       "       'b009p2lil4 bajaj majesti rx10 2000 watt heat convector room heater ( white , isi approv ) home & kitchen heat , cool & airqual roomheat heatconvector',\n",
       "       'b00j5dycca havel ventil air dsp 230mm exhaust fan ( pista green ) home & kitchen heat , cool & airqual fan exhaustfan',\n",
       "       'b01486f4g6 borosil jumbo 1000-watt grill sandwich maker ( black ) home & kitchen kitchen & homeappli smallkitchenappli sandwichmak'],\n",
       "      dtype=object)"
      ]
     },
     "execution_count": 60,
     "metadata": {},
     "output_type": "execute_result"
    }
   ],
   "source": [
    "#deletable - preview tokenized feature_group\n",
    "df['feature_group'].values"
   ]
  },
  {
   "cell_type": "markdown",
   "id": "6bb3eae4",
   "metadata": {},
   "source": [
    "#### Calculate Cosine Similarity"
   ]
  },
  {
   "cell_type": "code",
   "execution_count": 61,
   "id": "ebd9ddfc",
   "metadata": {},
   "outputs": [],
   "source": [
    "vectorizer = TfidfVectorizer(analyzer='word',stop_words='english')\n",
    "feature_vectors = vectorizer.fit_transform(df['feature_group'].values)"
   ]
  },
  {
   "cell_type": "code",
   "execution_count": 62,
   "id": "3eb15ae5",
   "metadata": {},
   "outputs": [
    {
     "name": "stdout",
     "output_type": "stream",
     "text": [
      "[[1.         0.31753555 0.6540123  ... 0.         0.03676464 0.        ]\n",
      " [0.31753555 1.         0.35307213 ... 0.         0.         0.0087757 ]\n",
      " [0.6540123  0.35307213 1.         ... 0.         0.03593978 0.        ]\n",
      " ...\n",
      " [0.         0.         0.         ... 1.         0.10058787 0.05404089]\n",
      " [0.03676464 0.         0.03593978 ... 0.10058787 1.         0.02952754]\n",
      " [0.         0.0087757  0.         ... 0.05404089 0.02952754 1.        ]]\n"
     ]
    }
   ],
   "source": [
    "similarity = cosine_similarity(feature_vectors)\n",
    "print(similarity)"
   ]
  },
  {
   "cell_type": "code",
   "execution_count": 63,
   "id": "df36ff38",
   "metadata": {},
   "outputs": [
    {
     "data": {
      "text/plain": [
       "(1348, 1348)"
      ]
     },
     "execution_count": 63,
     "metadata": {},
     "output_type": "execute_result"
    }
   ],
   "source": [
    "similarity.shape"
   ]
  },
  {
   "cell_type": "markdown",
   "id": "59af9f3c",
   "metadata": {},
   "source": [
    "#### Implement Similar Products Recommendation"
   ]
  },
  {
   "cell_type": "code",
   "execution_count": null,
   "id": "a9559455",
   "metadata": {},
   "outputs": [],
   "source": [
    "# Input block: Set query using product name and the desired number of results to be recommended\n",
    "\n",
    "# product_name = input('Input Product Name: ')\n",
    "# n_result = input('Input number of products to show: ')\n",
    "\n",
    "\n",
    "# Dummy Test: Use below values\n",
    "product_name = 'Wayona Nylon Braided USB to Lightning Fast Charging and Data Sync Cable Compatible for iPhone 13, 12,11, X, 8, 7, 6, 5, iPad Air, Pro, Mini (3 FT Pack of 1, Grey)'\n",
    "n_result = 5"
   ]
  },
  {
   "cell_type": "code",
   "execution_count": 94,
   "id": "f217d89a",
   "metadata": {},
   "outputs": [],
   "source": [
    "# UDF: get recommendations\n",
    "\n",
    "def recommend_similar_products(product_name: str, cos_sim: np.array, n_result: int = 1):\n",
    "\n",
    "    idx = None\n",
    "    idx = df[df['product_name'] == product_name].index[0]\n",
    "    # idx = df[df['product_name'].str.contains(product_name, na=False)].index[0]\n",
    "    \n",
    "    if idx.size > 0:\n",
    "   \n",
    "        distances = sorted(list(enumerate(cos_sim[idx])), reverse=True, key=lambda x:x[1])\n",
    "\n",
    "        similar_items = []\n",
    "        \n",
    "        for p_id in distances[1:(n_result+1)]:\n",
    "            \n",
    "            similar_items.append({'id': df.iloc[p_id[0]].product_id, 'name': df.iloc[p_id[0]].product_name})\n",
    "        \n",
    "    else:\n",
    "        print('NO RECOMMENDATIONS FOUND!')\n",
    "    return similar_items"
   ]
  },
  {
   "cell_type": "code",
   "execution_count": 95,
   "id": "56187056",
   "metadata": {},
   "outputs": [],
   "source": [
    "# Recommend Similar Products\n",
    "\n",
    "list_recos = recommend_similar_products(product_name, similarity, n_result)\n"
   ]
  },
  {
   "cell_type": "code",
   "execution_count": 96,
   "id": "078ccca3",
   "metadata": {},
   "outputs": [
    {
     "data": {
      "text/html": [
       "<div>\n",
       "<style scoped>\n",
       "    .dataframe tbody tr th:only-of-type {\n",
       "        vertical-align: middle;\n",
       "    }\n",
       "\n",
       "    .dataframe tbody tr th {\n",
       "        vertical-align: top;\n",
       "    }\n",
       "\n",
       "    .dataframe thead th {\n",
       "        text-align: right;\n",
       "    }\n",
       "</style>\n",
       "<table border=\"1\" class=\"dataframe\">\n",
       "  <thead>\n",
       "    <tr style=\"text-align: right;\">\n",
       "      <th></th>\n",
       "      <th>id</th>\n",
       "      <th>name</th>\n",
       "    </tr>\n",
       "  </thead>\n",
       "  <tbody>\n",
       "    <tr>\n",
       "      <th>0</th>\n",
       "      <td>B07JW1Y6XV</td>\n",
       "      <td>Wayona Nylon Braided 3A Lightning to USB A Syn...</td>\n",
       "    </tr>\n",
       "    <tr>\n",
       "      <th>1</th>\n",
       "      <td>B07JGDB5M1</td>\n",
       "      <td>Wayona Nylon Braided 2M / 6Ft Fast Charge Usb ...</td>\n",
       "    </tr>\n",
       "    <tr>\n",
       "      <th>2</th>\n",
       "      <td>B07JH1CBGW</td>\n",
       "      <td>Wayona Nylon Braided Usb Syncing And Charging ...</td>\n",
       "    </tr>\n",
       "    <tr>\n",
       "      <th>3</th>\n",
       "      <td>B07JH1C41D</td>\n",
       "      <td>Wayona Nylon Braided (2 Pack) Lightning Fast U...</td>\n",
       "    </tr>\n",
       "    <tr>\n",
       "      <th>4</th>\n",
       "      <td>B096MSW6CT</td>\n",
       "      <td>Sounce Fast Phone Charging Cable &amp; Data Sync U...</td>\n",
       "    </tr>\n",
       "  </tbody>\n",
       "</table>\n",
       "</div>"
      ],
      "text/plain": [
       "           id                                               name\n",
       "0  B07JW1Y6XV  Wayona Nylon Braided 3A Lightning to USB A Syn...\n",
       "1  B07JGDB5M1  Wayona Nylon Braided 2M / 6Ft Fast Charge Usb ...\n",
       "2  B07JH1CBGW  Wayona Nylon Braided Usb Syncing And Charging ...\n",
       "3  B07JH1C41D  Wayona Nylon Braided (2 Pack) Lightning Fast U...\n",
       "4  B096MSW6CT  Sounce Fast Phone Charging Cable & Data Sync U..."
      ]
     },
     "execution_count": 96,
     "metadata": {},
     "output_type": "execute_result"
    }
   ],
   "source": [
    "# Convert disctionary to dataframe\n",
    "\n",
    "df_recos = pd.DataFrame(list_recos)\n",
    "df_recos"
   ]
  },
  {
   "cell_type": "code",
   "execution_count": null,
   "id": "70fb0386",
   "metadata": {},
   "outputs": [],
   "source": [
    "# Save results to a csv file\n",
    "\n",
    "reco_file = 'similar_items.csv'\n",
    "\n",
    "if flag_token:\n",
    "    reco_file = 'TKN_'+ reco_file\n",
    "df_recos.to_csv(f'../data/processed/{reco_file}')"
   ]
  },
  {
   "cell_type": "markdown",
   "id": "fb4ff59a",
   "metadata": {},
   "source": [
    "### Item-Based Collaborative Filtering "
   ]
  },
  {
   "cell_type": "code",
   "execution_count": 69,
   "id": "631083f5",
   "metadata": {},
   "outputs": [
    {
     "data": {
      "text/plain": [
       "(1348, 17)"
      ]
     },
     "execution_count": 69,
     "metadata": {},
     "output_type": "execute_result"
    }
   ],
   "source": [
    "# Create a list of all values for user_name, and user_id.\n",
    "\n",
    "cols_user = ['user_name', 'user_id']\n",
    "\n",
    "for col in cols_user:\n",
    "    df[col] = df[col].apply(lambda x: x.split(',')) \n",
    "df.shape"
   ]
  },
  {
   "cell_type": "code",
   "execution_count": 70,
   "id": "5eb79a73",
   "metadata": {},
   "outputs": [
    {
     "data": {
      "text/html": [
       "<div>\n",
       "<style scoped>\n",
       "    .dataframe tbody tr th:only-of-type {\n",
       "        vertical-align: middle;\n",
       "    }\n",
       "\n",
       "    .dataframe tbody tr th {\n",
       "        vertical-align: top;\n",
       "    }\n",
       "\n",
       "    .dataframe thead th {\n",
       "        text-align: right;\n",
       "    }\n",
       "</style>\n",
       "<table border=\"1\" class=\"dataframe\">\n",
       "  <thead>\n",
       "    <tr style=\"text-align: right;\">\n",
       "      <th></th>\n",
       "      <th>product_id</th>\n",
       "      <th>product_name</th>\n",
       "      <th>category</th>\n",
       "      <th>discounted_price</th>\n",
       "      <th>actual_price</th>\n",
       "      <th>discount_percentage</th>\n",
       "      <th>rating</th>\n",
       "      <th>rating_count</th>\n",
       "      <th>about_product</th>\n",
       "      <th>user_id</th>\n",
       "      <th>user_name</th>\n",
       "      <th>review_id</th>\n",
       "      <th>review_title</th>\n",
       "      <th>review_content</th>\n",
       "      <th>img_link</th>\n",
       "      <th>product_link</th>\n",
       "      <th>feature_group</th>\n",
       "    </tr>\n",
       "  </thead>\n",
       "  <tbody>\n",
       "    <tr>\n",
       "      <th>44</th>\n",
       "      <td>B09NJN8L25</td>\n",
       "      <td>FLiX (Beetel USB to Micro USB PVC Data Sync &amp; ...</td>\n",
       "      <td>Computers&amp;Accessories Accessories&amp;Peripherals ...</td>\n",
       "      <td>59.0</td>\n",
       "      <td>199.0</td>\n",
       "      <td>70.0</td>\n",
       "      <td>4.0</td>\n",
       "      <td>9378.0</td>\n",
       "      <td>Micro USB charging cable for android phones an...</td>\n",
       "      <td>[AHIKJUDTVJ4T6DV6IUGFYZ5LXMPA, AE55KTFVNXYFD5F...</td>\n",
       "      <td>[$@|\\|TO$|-|, Sethu madhav, Akash Thakur, Burg...</td>\n",
       "      <td>R3F4T5TRYPTMIG,R3DQIEC603E7AY,R1O4Z15FD40PV5,R...</td>\n",
       "      <td>Worked on iPhone 7 and didn’t work on XR,Good ...</td>\n",
       "      <td>Worked on iPhone 7 and didn’t work on iPhone X...</td>\n",
       "      <td>https://m.media-amazon.com/images/I/31v7NnnAIt...</td>\n",
       "      <td>https://www.amazon.in/FLiX-Charging-480Mbps-De...</td>\n",
       "      <td>b09njn8l25 flix ( beetel usb micro usb pvc dat...</td>\n",
       "    </tr>\n",
       "  </tbody>\n",
       "</table>\n",
       "</div>"
      ],
      "text/plain": [
       "    product_id                                       product_name  \\\n",
       "44  B09NJN8L25  FLiX (Beetel USB to Micro USB PVC Data Sync & ...   \n",
       "\n",
       "                                             category  discounted_price  \\\n",
       "44  Computers&Accessories Accessories&Peripherals ...              59.0   \n",
       "\n",
       "    actual_price  discount_percentage  rating  rating_count  \\\n",
       "44         199.0                 70.0     4.0        9378.0   \n",
       "\n",
       "                                        about_product  \\\n",
       "44  Micro USB charging cable for android phones an...   \n",
       "\n",
       "                                              user_id  \\\n",
       "44  [AHIKJUDTVJ4T6DV6IUGFYZ5LXMPA, AE55KTFVNXYFD5F...   \n",
       "\n",
       "                                            user_name  \\\n",
       "44  [$@|\\|TO$|-|, Sethu madhav, Akash Thakur, Burg...   \n",
       "\n",
       "                                            review_id  \\\n",
       "44  R3F4T5TRYPTMIG,R3DQIEC603E7AY,R1O4Z15FD40PV5,R...   \n",
       "\n",
       "                                         review_title  \\\n",
       "44  Worked on iPhone 7 and didn’t work on XR,Good ...   \n",
       "\n",
       "                                       review_content  \\\n",
       "44  Worked on iPhone 7 and didn’t work on iPhone X...   \n",
       "\n",
       "                                             img_link  \\\n",
       "44  https://m.media-amazon.com/images/I/31v7NnnAIt...   \n",
       "\n",
       "                                         product_link  \\\n",
       "44  https://www.amazon.in/FLiX-Charging-480Mbps-De...   \n",
       "\n",
       "                                        feature_group  \n",
       "44  b09njn8l25 flix ( beetel usb micro usb pvc dat...  "
      ]
     },
     "execution_count": 70,
     "metadata": {},
     "output_type": "execute_result"
    }
   ],
   "source": [
    "# Testing\n",
    "df[df['product_id'] == 'B09NJN8L25']"
   ]
  },
  {
   "cell_type": "code",
   "execution_count": 71,
   "id": "bc58efe6",
   "metadata": {},
   "outputs": [],
   "source": [
    "# ​​UDF: Function to pad lists to the same length\n",
    "\n",
    "def pad_lists(row: pd.Series)-> pd.Series:\n",
    "    max_len = max(len(row['user_id']), len(row['user_name']))\n",
    "    row['user_id'] += [None] * (max_len - len(row['user_id']))\n",
    "    row['user_name'] += [None] * (max_len - len(row['user_name']))\n",
    "    return row\n"
   ]
  },
  {
   "cell_type": "code",
   "execution_count": 72,
   "id": "fae212be",
   "metadata": {},
   "outputs": [],
   "source": [
    "# Apply the padding function to each row\n",
    "\n",
    "df_exp = df.apply(pad_lists, axis=1)"
   ]
  },
  {
   "cell_type": "code",
   "execution_count": 73,
   "id": "58752f12",
   "metadata": {},
   "outputs": [
    {
     "data": {
      "text/plain": [
       "(10597, 17)"
      ]
     },
     "execution_count": 73,
     "metadata": {},
     "output_type": "execute_result"
    }
   ],
   "source": [
    "# Explode both columns\n",
    "\n",
    "df_exp = df_exp.explode(cols_user)\n",
    "df_exp.shape"
   ]
  },
  {
   "cell_type": "code",
   "execution_count": 74,
   "id": "3991c16a",
   "metadata": {},
   "outputs": [
    {
     "data": {
      "image/png": "[encoded data removed]",
      "text/plain": [
       "<Figure size 500x300 with 1 Axes>"
      ]
     },
     "metadata": {},
     "output_type": "display_data"
    },
    {
     "data": {
      "image/png": "[encoded data removed]",
      "text/plain": [
       "<Figure size 500x300 with 1 Axes>"
      ]
     },
     "metadata": {},
     "output_type": "display_data"
    }
   ],
   "source": [
    "# Check the distribution of ratings to help decide the threshold to keep - What's the min no. of ratings for a product to be recommended to user? 8+ since this is the majority?\n",
    "\n",
    "cols_of_interest = ['product_id', 'user_id']\n",
    "\n",
    "for col in cols_of_interest:\n",
    "    plt.figure(figsize=(5,3))\n",
    "    df_vc = df_exp[col].value_counts(ascending=False).reset_index()\n",
    "    sns.histplot(data=df_vc, x='count', bins=10)\n",
    "    plt.xlabel(f'Number of {col} ratings')\n",
    "    plt.title(f'Distribution of {col}')\n",
    "    plt.tight_layout()\n",
    "    plt.show()\n"
   ]
  },
  {
   "cell_type": "markdown",
   "id": "8b7edb7c",
   "metadata": {},
   "source": [
    "<div class=\"alert alert-block alert-warning\">\n",
    "Align with business on what threshold to set: \n",
    "\n",
    "- Minimum no. of ratings that a product should have\n",
    "- Minimum no. of ratings that a user has provided\n",
    "\n",
    "</div>"
   ]
  },
  {
   "cell_type": "code",
   "execution_count": null,
   "id": "65a64116",
   "metadata": {},
   "outputs": [],
   "source": [
    "# Input block: Set threshold values\n",
    "\n",
    "# Dummy Test: Set threshold values\n",
    "\n",
    "# Set num of ratings threshold for products\n",
    "n_threshold_prod = 8\n",
    "\n",
    "# Set num of ratings threshold for users\n",
    "n_threshold_user = 1"
   ]
  },
  {
   "cell_type": "markdown",
   "id": "0cadcdbd",
   "metadata": {},
   "source": [
    "#### Sparse Matrix for Ratings"
   ]
  },
  {
   "cell_type": "code",
   "execution_count": 76,
   "id": "9ad01b44",
   "metadata": {},
   "outputs": [
    {
     "data": {
      "text/plain": [
       "(1348, 9034)"
      ]
     },
     "execution_count": 76,
     "metadata": {},
     "output_type": "execute_result"
    }
   ],
   "source": [
    "# Prepare Matrix using pivot_table\n",
    "\n",
    "df_pvt = df_exp.pivot_table(index='product_id', columns='user_id', values='rating')\n",
    "df_pvt.fillna(0, inplace=True)\n",
    "df_pvt.shape"
   ]
  },
  {
   "cell_type": "markdown",
   "id": "be5c2634",
   "metadata": {},
   "source": [
    "#### Filter ratings by product_id"
   ]
  },
  {
   "cell_type": "code",
   "execution_count": 77,
   "id": "ff836252",
   "metadata": {},
   "outputs": [],
   "source": [
    "# Aggregate ratings by product_id\n",
    "\n",
    "gby_prod_ratings = df_exp.groupby('product_id')['rating'].agg('count')"
   ]
  },
  {
   "cell_type": "code",
   "execution_count": 78,
   "id": "2396ec84",
   "metadata": {},
   "outputs": [
    {
     "data": {
      "text/plain": [
       "(1295, 9034)"
      ]
     },
     "execution_count": 78,
     "metadata": {},
     "output_type": "execute_result"
    }
   ],
   "source": [
    "# Get indices of product_id with ratings >= product threshold\n",
    "\n",
    "idx_above_th_prod = gby_prod_ratings.loc[gby_prod_ratings >= n_threshold_prod].index\n",
    "df_pvt_reduced = df_pvt.loc[idx_above_th_prod, :]\n",
    "df_pvt_reduced.shape"
   ]
  },
  {
   "cell_type": "code",
   "execution_count": 79,
   "id": "7e305a4c",
   "metadata": {},
   "outputs": [],
   "source": [
    "# Checkpoint: Pivot table columns should match result of above threhshold df columns\n",
    "\n",
    "assert df_pvt.shape[1] == df_pvt_reduced.shape[1], \"No of columns do not match. Check again\""
   ]
  },
  {
   "cell_type": "markdown",
   "id": "eef6a43b",
   "metadata": {},
   "source": [
    "#### Filter ratings by user_id"
   ]
  },
  {
   "cell_type": "code",
   "execution_count": 80,
   "id": "168a8171",
   "metadata": {},
   "outputs": [],
   "source": [
    "# Aggregate ratings by user_id\n",
    "\n",
    "gby_user_ratings = df_exp.groupby('user_id')['rating'].agg('count')"
   ]
  },
  {
   "cell_type": "code",
   "execution_count": 81,
   "id": "a3dad488",
   "metadata": {},
   "outputs": [
    {
     "data": {
      "text/plain": [
       "(1295, 9034)"
      ]
     },
     "execution_count": 81,
     "metadata": {},
     "output_type": "execute_result"
    }
   ],
   "source": [
    "# Get indices of user_id with ratings >= user threshold\n",
    "\n",
    "idx_gby_th_user = gby_user_ratings.loc[gby_user_ratings >= n_threshold_user ].index\n",
    "df_pvt_final = df_pvt_reduced.loc[:, idx_gby_th_user]\n",
    "df_pvt_final.shape\n"
   ]
  },
  {
   "cell_type": "code",
   "execution_count": 82,
   "id": "098c1849",
   "metadata": {},
   "outputs": [],
   "source": [
    "# Checkpoint: Pivot table rows should match result of above threshold df rows\n",
    "\n",
    "assert df_pvt_reduced.shape[0] == df_pvt_final.shape[0], \"No of rows do not match. Check again!\""
   ]
  },
  {
   "cell_type": "markdown",
   "id": "3293d12a",
   "metadata": {},
   "source": [
    "### Sparse Matrix"
   ]
  },
  {
   "cell_type": "code",
   "execution_count": 83,
   "id": "c05ae118",
   "metadata": {},
   "outputs": [
    {
     "data": {
      "text/html": [
       "<div>\n",
       "<style scoped>\n",
       "    .dataframe tbody tr th:only-of-type {\n",
       "        vertical-align: middle;\n",
       "    }\n",
       "\n",
       "    .dataframe tbody tr th {\n",
       "        vertical-align: top;\n",
       "    }\n",
       "\n",
       "    .dataframe thead th {\n",
       "        text-align: right;\n",
       "    }\n",
       "</style>\n",
       "<table border=\"1\" class=\"dataframe\">\n",
       "  <thead>\n",
       "    <tr style=\"text-align: right;\">\n",
       "      <th>user_id</th>\n",
       "      <th>AE22E2AXODSPNK3EBIHNGYS5LOSA</th>\n",
       "      <th>AE22MK2NXQD3ZARLIOL3SLD4GU6A</th>\n",
       "      <th>AE22Y3KIS7SE6LI3HE2VS6WWPU4Q</th>\n",
       "      <th>AE23RS3W7GZO7LHYKJU6KSKVM4MQ</th>\n",
       "      <th>AE23WGYTUMB5R6JJMBU4V43JIW7Q</th>\n",
       "      <th>AE242TR3GQ6TYC6W4SJ5UYYKBTYQ</th>\n",
       "      <th>AE243IWFZJ3BB6E6WMUG52DHWJVA</th>\n",
       "      <th>AE24UFIVBSESSEV7UALTKP7K5Z4A</th>\n",
       "      <th>AE26ZTVZB6CB4VML6JSTYTL2QG6A</th>\n",
       "      <th>AE27PFEMMMJS44GT27KPL6VUOQUQ</th>\n",
       "      <th>...</th>\n",
       "      <th>AHZSWCFTWESY2N2RK4BVWBMM4TZQ</th>\n",
       "      <th>AHZTLZNYRSIEOCNNYMQCXWTWA62Q</th>\n",
       "      <th>AHZWJCVEIEI76H2VGMUSN5D735IQ</th>\n",
       "      <th>AHZWXUWE3RGLDH4JJUK3HT3VMBJA</th>\n",
       "      <th>AHZXKAGAJPIMZJD5XJ5QUIYR3ORA</th>\n",
       "      <th>AHZXNS63DN6MZDH3WSKYRLWSG3DA</th>\n",
       "      <th>AHZYN7O73FJWRPUQGZM5BEAZ3A4A</th>\n",
       "      <th>AHZZFBL24XXVLW6H44MOB6LBHH5A</th>\n",
       "      <th>AHZZISWHBQV4TL3MKOJTH22IUNIQ</th>\n",
       "      <th>AHZZXJWETMZR7SH7C22KVUT7VHAA</th>\n",
       "    </tr>\n",
       "    <tr>\n",
       "      <th>product_id</th>\n",
       "      <th></th>\n",
       "      <th></th>\n",
       "      <th></th>\n",
       "      <th></th>\n",
       "      <th></th>\n",
       "      <th></th>\n",
       "      <th></th>\n",
       "      <th></th>\n",
       "      <th></th>\n",
       "      <th></th>\n",
       "      <th></th>\n",
       "      <th></th>\n",
       "      <th></th>\n",
       "      <th></th>\n",
       "      <th></th>\n",
       "      <th></th>\n",
       "      <th></th>\n",
       "      <th></th>\n",
       "      <th></th>\n",
       "      <th></th>\n",
       "      <th></th>\n",
       "    </tr>\n",
       "  </thead>\n",
       "  <tbody>\n",
       "    <tr>\n",
       "      <th>B002PD61Y4</th>\n",
       "      <td>0.0</td>\n",
       "      <td>0.0</td>\n",
       "      <td>0.0</td>\n",
       "      <td>0.0</td>\n",
       "      <td>0.0</td>\n",
       "      <td>0.0</td>\n",
       "      <td>0.0</td>\n",
       "      <td>0.0</td>\n",
       "      <td>0.0</td>\n",
       "      <td>0.0</td>\n",
       "      <td>...</td>\n",
       "      <td>0.0</td>\n",
       "      <td>0.0</td>\n",
       "      <td>0.0</td>\n",
       "      <td>0.0</td>\n",
       "      <td>0.0</td>\n",
       "      <td>0.0</td>\n",
       "      <td>0.0</td>\n",
       "      <td>0.0</td>\n",
       "      <td>0.0</td>\n",
       "      <td>0.0</td>\n",
       "    </tr>\n",
       "    <tr>\n",
       "      <th>B002SZEOLG</th>\n",
       "      <td>0.0</td>\n",
       "      <td>0.0</td>\n",
       "      <td>0.0</td>\n",
       "      <td>0.0</td>\n",
       "      <td>0.0</td>\n",
       "      <td>0.0</td>\n",
       "      <td>0.0</td>\n",
       "      <td>0.0</td>\n",
       "      <td>0.0</td>\n",
       "      <td>0.0</td>\n",
       "      <td>...</td>\n",
       "      <td>0.0</td>\n",
       "      <td>0.0</td>\n",
       "      <td>0.0</td>\n",
       "      <td>0.0</td>\n",
       "      <td>0.0</td>\n",
       "      <td>0.0</td>\n",
       "      <td>0.0</td>\n",
       "      <td>0.0</td>\n",
       "      <td>0.0</td>\n",
       "      <td>0.0</td>\n",
       "    </tr>\n",
       "    <tr>\n",
       "      <th>B003B00484</th>\n",
       "      <td>0.0</td>\n",
       "      <td>0.0</td>\n",
       "      <td>0.0</td>\n",
       "      <td>0.0</td>\n",
       "      <td>0.0</td>\n",
       "      <td>0.0</td>\n",
       "      <td>0.0</td>\n",
       "      <td>0.0</td>\n",
       "      <td>0.0</td>\n",
       "      <td>0.0</td>\n",
       "      <td>...</td>\n",
       "      <td>0.0</td>\n",
       "      <td>0.0</td>\n",
       "      <td>0.0</td>\n",
       "      <td>0.0</td>\n",
       "      <td>0.0</td>\n",
       "      <td>0.0</td>\n",
       "      <td>0.0</td>\n",
       "      <td>0.0</td>\n",
       "      <td>0.0</td>\n",
       "      <td>0.0</td>\n",
       "    </tr>\n",
       "    <tr>\n",
       "      <th>B003L62T7W</th>\n",
       "      <td>0.0</td>\n",
       "      <td>0.0</td>\n",
       "      <td>0.0</td>\n",
       "      <td>0.0</td>\n",
       "      <td>0.0</td>\n",
       "      <td>0.0</td>\n",
       "      <td>0.0</td>\n",
       "      <td>0.0</td>\n",
       "      <td>0.0</td>\n",
       "      <td>0.0</td>\n",
       "      <td>...</td>\n",
       "      <td>0.0</td>\n",
       "      <td>0.0</td>\n",
       "      <td>0.0</td>\n",
       "      <td>0.0</td>\n",
       "      <td>0.0</td>\n",
       "      <td>0.0</td>\n",
       "      <td>0.0</td>\n",
       "      <td>0.0</td>\n",
       "      <td>0.0</td>\n",
       "      <td>0.0</td>\n",
       "    </tr>\n",
       "    <tr>\n",
       "      <th>B004IO5BMQ</th>\n",
       "      <td>0.0</td>\n",
       "      <td>0.0</td>\n",
       "      <td>0.0</td>\n",
       "      <td>0.0</td>\n",
       "      <td>0.0</td>\n",
       "      <td>0.0</td>\n",
       "      <td>0.0</td>\n",
       "      <td>0.0</td>\n",
       "      <td>0.0</td>\n",
       "      <td>0.0</td>\n",
       "      <td>...</td>\n",
       "      <td>0.0</td>\n",
       "      <td>0.0</td>\n",
       "      <td>0.0</td>\n",
       "      <td>0.0</td>\n",
       "      <td>0.0</td>\n",
       "      <td>0.0</td>\n",
       "      <td>0.0</td>\n",
       "      <td>0.0</td>\n",
       "      <td>0.0</td>\n",
       "      <td>0.0</td>\n",
       "    </tr>\n",
       "  </tbody>\n",
       "</table>\n",
       "<p>5 rows × 9034 columns</p>\n",
       "</div>"
      ],
      "text/plain": [
       "user_id     AE22E2AXODSPNK3EBIHNGYS5LOSA  AE22MK2NXQD3ZARLIOL3SLD4GU6A  \\\n",
       "product_id                                                               \n",
       "B002PD61Y4                           0.0                           0.0   \n",
       "B002SZEOLG                           0.0                           0.0   \n",
       "B003B00484                           0.0                           0.0   \n",
       "B003L62T7W                           0.0                           0.0   \n",
       "B004IO5BMQ                           0.0                           0.0   \n",
       "\n",
       "user_id     AE22Y3KIS7SE6LI3HE2VS6WWPU4Q  AE23RS3W7GZO7LHYKJU6KSKVM4MQ  \\\n",
       "product_id                                                               \n",
       "B002PD61Y4                           0.0                           0.0   \n",
       "B002SZEOLG                           0.0                           0.0   \n",
       "B003B00484                           0.0                           0.0   \n",
       "B003L62T7W                           0.0                           0.0   \n",
       "B004IO5BMQ                           0.0                           0.0   \n",
       "\n",
       "user_id     AE23WGYTUMB5R6JJMBU4V43JIW7Q  AE242TR3GQ6TYC6W4SJ5UYYKBTYQ  \\\n",
       "product_id                                                               \n",
       "B002PD61Y4                           0.0                           0.0   \n",
       "B002SZEOLG                           0.0                           0.0   \n",
       "B003B00484                           0.0                           0.0   \n",
       "B003L62T7W                           0.0                           0.0   \n",
       "B004IO5BMQ                           0.0                           0.0   \n",
       "\n",
       "user_id     AE243IWFZJ3BB6E6WMUG52DHWJVA  AE24UFIVBSESSEV7UALTKP7K5Z4A  \\\n",
       "product_id                                                               \n",
       "B002PD61Y4                           0.0                           0.0   \n",
       "B002SZEOLG                           0.0                           0.0   \n",
       "B003B00484                           0.0                           0.0   \n",
       "B003L62T7W                           0.0                           0.0   \n",
       "B004IO5BMQ                           0.0                           0.0   \n",
       "\n",
       "user_id     AE26ZTVZB6CB4VML6JSTYTL2QG6A  AE27PFEMMMJS44GT27KPL6VUOQUQ  ...  \\\n",
       "product_id                                                              ...   \n",
       "B002PD61Y4                           0.0                           0.0  ...   \n",
       "B002SZEOLG                           0.0                           0.0  ...   \n",
       "B003B00484                           0.0                           0.0  ...   \n",
       "B003L62T7W                           0.0                           0.0  ...   \n",
       "B004IO5BMQ                           0.0                           0.0  ...   \n",
       "\n",
       "user_id     AHZSWCFTWESY2N2RK4BVWBMM4TZQ  AHZTLZNYRSIEOCNNYMQCXWTWA62Q  \\\n",
       "product_id                                                               \n",
       "B002PD61Y4                           0.0                           0.0   \n",
       "B002SZEOLG                           0.0                           0.0   \n",
       "B003B00484                           0.0                           0.0   \n",
       "B003L62T7W                           0.0                           0.0   \n",
       "B004IO5BMQ                           0.0                           0.0   \n",
       "\n",
       "user_id     AHZWJCVEIEI76H2VGMUSN5D735IQ  AHZWXUWE3RGLDH4JJUK3HT3VMBJA  \\\n",
       "product_id                                                               \n",
       "B002PD61Y4                           0.0                           0.0   \n",
       "B002SZEOLG                           0.0                           0.0   \n",
       "B003B00484                           0.0                           0.0   \n",
       "B003L62T7W                           0.0                           0.0   \n",
       "B004IO5BMQ                           0.0                           0.0   \n",
       "\n",
       "user_id     AHZXKAGAJPIMZJD5XJ5QUIYR3ORA  AHZXNS63DN6MZDH3WSKYRLWSG3DA  \\\n",
       "product_id                                                               \n",
       "B002PD61Y4                           0.0                           0.0   \n",
       "B002SZEOLG                           0.0                           0.0   \n",
       "B003B00484                           0.0                           0.0   \n",
       "B003L62T7W                           0.0                           0.0   \n",
       "B004IO5BMQ                           0.0                           0.0   \n",
       "\n",
       "user_id     AHZYN7O73FJWRPUQGZM5BEAZ3A4A  AHZZFBL24XXVLW6H44MOB6LBHH5A  \\\n",
       "product_id                                                               \n",
       "B002PD61Y4                           0.0                           0.0   \n",
       "B002SZEOLG                           0.0                           0.0   \n",
       "B003B00484                           0.0                           0.0   \n",
       "B003L62T7W                           0.0                           0.0   \n",
       "B004IO5BMQ                           0.0                           0.0   \n",
       "\n",
       "user_id     AHZZISWHBQV4TL3MKOJTH22IUNIQ  AHZZXJWETMZR7SH7C22KVUT7VHAA  \n",
       "product_id                                                              \n",
       "B002PD61Y4                           0.0                           0.0  \n",
       "B002SZEOLG                           0.0                           0.0  \n",
       "B003B00484                           0.0                           0.0  \n",
       "B003L62T7W                           0.0                           0.0  \n",
       "B004IO5BMQ                           0.0                           0.0  \n",
       "\n",
       "[5 rows x 9034 columns]"
      ]
     },
     "execution_count": 83,
     "metadata": {},
     "output_type": "execute_result"
    }
   ],
   "source": [
    "df_pvt_final.head()"
   ]
  },
  {
   "cell_type": "markdown",
   "id": "9a363c21",
   "metadata": {},
   "source": [
    "## MODELING"
   ]
  },
  {
   "cell_type": "code",
   "execution_count": 84,
   "id": "c5499a21",
   "metadata": {},
   "outputs": [],
   "source": [
    "from scipy.sparse import csr_matrix\n",
    "from sklearn.neighbors import NearestNeighbors"
   ]
  },
  {
   "cell_type": "code",
   "execution_count": 85,
   "id": "24c59efe",
   "metadata": {},
   "outputs": [],
   "source": [
    "csr_data = csr_matrix(df_pvt_final.values)"
   ]
  },
  {
   "cell_type": "code",
   "execution_count": 86,
   "id": "5015fa92",
   "metadata": {},
   "outputs": [
    {
     "name": "stdout",
     "output_type": "stream",
     "text": [
      "<Compressed Sparse Row sparse matrix of dtype 'float64'\n",
      "\twith 10359 stored elements and shape (1295, 9034)>\n",
      "  Coords\tValues\n",
      "  (0, 964)\t4.1\n",
      "  (0, 1795)\t4.1\n",
      "  (0, 2047)\t4.1\n",
      "  (0, 4939)\t4.1\n",
      "  (0, 4963)\t4.1\n",
      "  (0, 5848)\t4.1\n",
      "  (0, 7249)\t4.1\n",
      "  (0, 7806)\t4.1\n",
      "  (1, 50)\t4.2\n",
      "  (1, 373)\t4.2\n",
      "  (1, 522)\t4.2\n",
      "  (1, 3576)\t4.2\n",
      "  (1, 6467)\t4.2\n",
      "  (1, 7774)\t4.2\n",
      "  (1, 8251)\t4.2\n",
      "  (1, 8302)\t4.2\n",
      "  (2, 4308)\t4.3\n",
      "  (2, 4582)\t4.3\n",
      "  (2, 4957)\t4.3\n",
      "  (2, 5603)\t4.3\n",
      "  (2, 6593)\t4.3\n",
      "  (2, 7296)\t4.3\n",
      "  (2, 7659)\t4.3\n",
      "  (2, 8015)\t4.3\n",
      "  (3, 313)\t4.3\n",
      "  :\t:\n",
      "  (1291, 7175)\t4.4\n",
      "  (1292, 303)\t4.3\n",
      "  (1292, 4414)\t4.3\n",
      "  (1292, 4763)\t4.3\n",
      "  (1292, 5247)\t4.3\n",
      "  (1292, 7227)\t4.3\n",
      "  (1292, 7622)\t4.3\n",
      "  (1292, 8150)\t4.3\n",
      "  (1292, 8183)\t4.3\n",
      "  (1293, 70)\t4.0\n",
      "  (1293, 1337)\t4.0\n",
      "  (1293, 2602)\t4.0\n",
      "  (1293, 2641)\t4.0\n",
      "  (1293, 3581)\t4.0\n",
      "  (1293, 4040)\t4.0\n",
      "  (1293, 5133)\t4.0\n",
      "  (1293, 8655)\t4.0\n",
      "  (1294, 630)\t4.8\n",
      "  (1294, 975)\t4.8\n",
      "  (1294, 4833)\t4.8\n",
      "  (1294, 6210)\t4.8\n",
      "  (1294, 6532)\t4.8\n",
      "  (1294, 7669)\t4.8\n",
      "  (1294, 7857)\t4.8\n",
      "  (1294, 8288)\t4.8\n"
     ]
    }
   ],
   "source": [
    "print(csr_data)"
   ]
  },
  {
   "cell_type": "markdown",
   "id": "1c44bc71",
   "metadata": {},
   "source": [
    "<div class=\"alert alert-block alert-warning\">\n",
    "TO-DO: Hyperparameter Search\n",
    "</div>"
   ]
  },
  {
   "cell_type": "code",
   "execution_count": 87,
   "id": "b05b0e0f",
   "metadata": {},
   "outputs": [
    {
     "data": {
      "text/html": [
       "<style>#sk-container-id-1 {\n",
       "  /* Definition of color scheme common for light and dark mode */\n",
       "  --sklearn-color-text: #000;\n",
       "  --sklearn-color-text-muted: #666;\n",
       "  --sklearn-color-line: gray;\n",
       "  /* Definition of color scheme for unfitted estimators */\n",
       "  --sklearn-color-unfitted-level-0: #fff5e6;\n",
       "  --sklearn-color-unfitted-level-1: #f6e4d2;\n",
       "  --sklearn-color-unfitted-level-2: #ffe0b3;\n",
       "  --sklearn-color-unfitted-level-3: chocolate;\n",
       "  /* Definition of color scheme for fitted estimators */\n",
       "  --sklearn-color-fitted-level-0: #f0f8ff;\n",
       "  --sklearn-color-fitted-level-1: #d4ebff;\n",
       "  --sklearn-color-fitted-level-2: #b3dbfd;\n",
       "  --sklearn-color-fitted-level-3: cornflowerblue;\n",
       "\n",
       "  /* Specific color for light theme */\n",
       "  --sklearn-color-text-on-default-background: var(--sg-text-color, var(--theme-code-foreground, var(--jp-content-font-color1, black)));\n",
       "  --sklearn-color-background: var(--sg-background-color, var(--theme-background, var(--jp-layout-color0, white)));\n",
       "  --sklearn-color-border-box: var(--sg-text-color, var(--theme-code-foreground, var(--jp-content-font-color1, black)));\n",
       "  --sklearn-color-icon: #696969;\n",
       "\n",
       "  @media (prefers-color-scheme: dark) {\n",
       "    /* Redefinition of color scheme for dark theme */\n",
       "    --sklearn-color-text-on-default-background: var(--sg-text-color, var(--theme-code-foreground, var(--jp-content-font-color1, white)));\n",
       "    --sklearn-color-background: var(--sg-background-color, var(--theme-background, var(--jp-layout-color0, #111)));\n",
       "    --sklearn-color-border-box: var(--sg-text-color, var(--theme-code-foreground, var(--jp-content-font-color1, white)));\n",
       "    --sklearn-color-icon: #878787;\n",
       "  }\n",
       "}\n",
       "\n",
       "#sk-container-id-1 {\n",
       "  color: var(--sklearn-color-text);\n",
       "}\n",
       "\n",
       "#sk-container-id-1 pre {\n",
       "  padding: 0;\n",
       "}\n",
       "\n",
       "#sk-container-id-1 input.sk-hidden--visually {\n",
       "  border: 0;\n",
       "  clip: rect(1px 1px 1px 1px);\n",
       "  clip: rect(1px, 1px, 1px, 1px);\n",
       "  height: 1px;\n",
       "  margin: -1px;\n",
       "  overflow: hidden;\n",
       "  padding: 0;\n",
       "  position: absolute;\n",
       "  width: 1px;\n",
       "}\n",
       "\n",
       "#sk-container-id-1 div.sk-dashed-wrapped {\n",
       "  border: 1px dashed var(--sklearn-color-line);\n",
       "  margin: 0 0.4em 0.5em 0.4em;\n",
       "  box-sizing: border-box;\n",
       "  padding-bottom: 0.4em;\n",
       "  background-color: var(--sklearn-color-background);\n",
       "}\n",
       "\n",
       "#sk-container-id-1 div.sk-container {\n",
       "  /* jupyter's `normalize.less` sets `[hidden] { display: none; }`\n",
       "     but bootstrap.min.css set `[hidden] { display: none !important; }`\n",
       "     so we also need the `!important` here to be able to override the\n",
       "     default hidden behavior on the sphinx rendered scikit-learn.org.\n",
       "     See: https://github.com/scikit-learn/scikit-learn/issues/21755 */\n",
       "  display: inline-block !important;\n",
       "  position: relative;\n",
       "}\n",
       "\n",
       "#sk-container-id-1 div.sk-text-repr-fallback {\n",
       "  display: none;\n",
       "}\n",
       "\n",
       "div.sk-parallel-item,\n",
       "div.sk-serial,\n",
       "div.sk-item {\n",
       "  /* draw centered vertical line to link estimators */\n",
       "  background-image: linear-gradient(var(--sklearn-color-text-on-default-background), var(--sklearn-color-text-on-default-background));\n",
       "  background-size: 2px 100%;\n",
       "  background-repeat: no-repeat;\n",
       "  background-position: center center;\n",
       "}\n",
       "\n",
       "/* Parallel-specific style estimator block */\n",
       "\n",
       "#sk-container-id-1 div.sk-parallel-item::after {\n",
       "  content: \"\";\n",
       "  width: 100%;\n",
       "  border-bottom: 2px solid var(--sklearn-color-text-on-default-background);\n",
       "  flex-grow: 1;\n",
       "}\n",
       "\n",
       "#sk-container-id-1 div.sk-parallel {\n",
       "  display: flex;\n",
       "  align-items: stretch;\n",
       "  justify-content: center;\n",
       "  background-color: var(--sklearn-color-background);\n",
       "  position: relative;\n",
       "}\n",
       "\n",
       "#sk-container-id-1 div.sk-parallel-item {\n",
       "  display: flex;\n",
       "  flex-direction: column;\n",
       "}\n",
       "\n",
       "#sk-container-id-1 div.sk-parallel-item:first-child::after {\n",
       "  align-self: flex-end;\n",
       "  width: 50%;\n",
       "}\n",
       "\n",
       "#sk-container-id-1 div.sk-parallel-item:last-child::after {\n",
       "  align-self: flex-start;\n",
       "  width: 50%;\n",
       "}\n",
       "\n",
       "#sk-container-id-1 div.sk-parallel-item:only-child::after {\n",
       "  width: 0;\n",
       "}\n",
       "\n",
       "/* Serial-specific style estimator block */\n",
       "\n",
       "#sk-container-id-1 div.sk-serial {\n",
       "  display: flex;\n",
       "  flex-direction: column;\n",
       "  align-items: center;\n",
       "  background-color: var(--sklearn-color-background);\n",
       "  padding-right: 1em;\n",
       "  padding-left: 1em;\n",
       "}\n",
       "\n",
       "\n",
       "/* Toggleable style: style used for estimator/Pipeline/ColumnTransformer box that is\n",
       "clickable and can be expanded/collapsed.\n",
       "- Pipeline and ColumnTransformer use this feature and define the default style\n",
       "- Estimators will overwrite some part of the style using the `sk-estimator` class\n",
       "*/\n",
       "\n",
       "/* Pipeline and ColumnTransformer style (default) */\n",
       "\n",
       "#sk-container-id-1 div.sk-toggleable {\n",
       "  /* Default theme specific background. It is overwritten whether we have a\n",
       "  specific estimator or a Pipeline/ColumnTransformer */\n",
       "  background-color: var(--sklearn-color-background);\n",
       "}\n",
       "\n",
       "/* Toggleable label */\n",
       "#sk-container-id-1 label.sk-toggleable__label {\n",
       "  cursor: pointer;\n",
       "  display: flex;\n",
       "  width: 100%;\n",
       "  margin-bottom: 0;\n",
       "  padding: 0.5em;\n",
       "  box-sizing: border-box;\n",
       "  text-align: center;\n",
       "  align-items: start;\n",
       "  justify-content: space-between;\n",
       "  gap: 0.5em;\n",
       "}\n",
       "\n",
       "#sk-container-id-1 label.sk-toggleable__label .caption {\n",
       "  font-size: 0.6rem;\n",
       "  font-weight: lighter;\n",
       "  color: var(--sklearn-color-text-muted);\n",
       "}\n",
       "\n",
       "#sk-container-id-1 label.sk-toggleable__label-arrow:before {\n",
       "  /* Arrow on the left of the label */\n",
       "  content: \"▸\";\n",
       "  float: left;\n",
       "  margin-right: 0.25em;\n",
       "  color: var(--sklearn-color-icon);\n",
       "}\n",
       "\n",
       "#sk-container-id-1 label.sk-toggleable__label-arrow:hover:before {\n",
       "  color: var(--sklearn-color-text);\n",
       "}\n",
       "\n",
       "/* Toggleable content - dropdown */\n",
       "\n",
       "#sk-container-id-1 div.sk-toggleable__content {\n",
       "  max-height: 0;\n",
       "  max-width: 0;\n",
       "  overflow: hidden;\n",
       "  text-align: left;\n",
       "  /* unfitted */\n",
       "  background-color: var(--sklearn-color-unfitted-level-0);\n",
       "}\n",
       "\n",
       "#sk-container-id-1 div.sk-toggleable__content.fitted {\n",
       "  /* fitted */\n",
       "  background-color: var(--sklearn-color-fitted-level-0);\n",
       "}\n",
       "\n",
       "#sk-container-id-1 div.sk-toggleable__content pre {\n",
       "  margin: 0.2em;\n",
       "  border-radius: 0.25em;\n",
       "  color: var(--sklearn-color-text);\n",
       "  /* unfitted */\n",
       "  background-color: var(--sklearn-color-unfitted-level-0);\n",
       "}\n",
       "\n",
       "#sk-container-id-1 div.sk-toggleable__content.fitted pre {\n",
       "  /* unfitted */\n",
       "  background-color: var(--sklearn-color-fitted-level-0);\n",
       "}\n",
       "\n",
       "#sk-container-id-1 input.sk-toggleable__control:checked~div.sk-toggleable__content {\n",
       "  /* Expand drop-down */\n",
       "  max-height: 200px;\n",
       "  max-width: 100%;\n",
       "  overflow: auto;\n",
       "}\n",
       "\n",
       "#sk-container-id-1 input.sk-toggleable__control:checked~label.sk-toggleable__label-arrow:before {\n",
       "  content: \"▾\";\n",
       "}\n",
       "\n",
       "/* Pipeline/ColumnTransformer-specific style */\n",
       "\n",
       "#sk-container-id-1 div.sk-label input.sk-toggleable__control:checked~label.sk-toggleable__label {\n",
       "  color: var(--sklearn-color-text);\n",
       "  background-color: var(--sklearn-color-unfitted-level-2);\n",
       "}\n",
       "\n",
       "#sk-container-id-1 div.sk-label.fitted input.sk-toggleable__control:checked~label.sk-toggleable__label {\n",
       "  background-color: var(--sklearn-color-fitted-level-2);\n",
       "}\n",
       "\n",
       "/* Estimator-specific style */\n",
       "\n",
       "/* Colorize estimator box */\n",
       "#sk-container-id-1 div.sk-estimator input.sk-toggleable__control:checked~label.sk-toggleable__label {\n",
       "  /* unfitted */\n",
       "  background-color: var(--sklearn-color-unfitted-level-2);\n",
       "}\n",
       "\n",
       "#sk-container-id-1 div.sk-estimator.fitted input.sk-toggleable__control:checked~label.sk-toggleable__label {\n",
       "  /* fitted */\n",
       "  background-color: var(--sklearn-color-fitted-level-2);\n",
       "}\n",
       "\n",
       "#sk-container-id-1 div.sk-label label.sk-toggleable__label,\n",
       "#sk-container-id-1 div.sk-label label {\n",
       "  /* The background is the default theme color */\n",
       "  color: var(--sklearn-color-text-on-default-background);\n",
       "}\n",
       "\n",
       "/* On hover, darken the color of the background */\n",
       "#sk-container-id-1 div.sk-label:hover label.sk-toggleable__label {\n",
       "  color: var(--sklearn-color-text);\n",
       "  background-color: var(--sklearn-color-unfitted-level-2);\n",
       "}\n",
       "\n",
       "/* Label box, darken color on hover, fitted */\n",
       "#sk-container-id-1 div.sk-label.fitted:hover label.sk-toggleable__label.fitted {\n",
       "  color: var(--sklearn-color-text);\n",
       "  background-color: var(--sklearn-color-fitted-level-2);\n",
       "}\n",
       "\n",
       "/* Estimator label */\n",
       "\n",
       "#sk-container-id-1 div.sk-label label {\n",
       "  font-family: monospace;\n",
       "  font-weight: bold;\n",
       "  display: inline-block;\n",
       "  line-height: 1.2em;\n",
       "}\n",
       "\n",
       "#sk-container-id-1 div.sk-label-container {\n",
       "  text-align: center;\n",
       "}\n",
       "\n",
       "/* Estimator-specific */\n",
       "#sk-container-id-1 div.sk-estimator {\n",
       "  font-family: monospace;\n",
       "  border: 1px dotted var(--sklearn-color-border-box);\n",
       "  border-radius: 0.25em;\n",
       "  box-sizing: border-box;\n",
       "  margin-bottom: 0.5em;\n",
       "  /* unfitted */\n",
       "  background-color: var(--sklearn-color-unfitted-level-0);\n",
       "}\n",
       "\n",
       "#sk-container-id-1 div.sk-estimator.fitted {\n",
       "  /* fitted */\n",
       "  background-color: var(--sklearn-color-fitted-level-0);\n",
       "}\n",
       "\n",
       "/* on hover */\n",
       "#sk-container-id-1 div.sk-estimator:hover {\n",
       "  /* unfitted */\n",
       "  background-color: var(--sklearn-color-unfitted-level-2);\n",
       "}\n",
       "\n",
       "#sk-container-id-1 div.sk-estimator.fitted:hover {\n",
       "  /* fitted */\n",
       "  background-color: var(--sklearn-color-fitted-level-2);\n",
       "}\n",
       "\n",
       "/* Specification for estimator info (e.g. \"i\" and \"?\") */\n",
       "\n",
       "/* Common style for \"i\" and \"?\" */\n",
       "\n",
       ".sk-estimator-doc-link,\n",
       "a:link.sk-estimator-doc-link,\n",
       "a:visited.sk-estimator-doc-link {\n",
       "  float: right;\n",
       "  font-size: smaller;\n",
       "  line-height: 1em;\n",
       "  font-family: monospace;\n",
       "  background-color: var(--sklearn-color-background);\n",
       "  border-radius: 1em;\n",
       "  height: 1em;\n",
       "  width: 1em;\n",
       "  text-decoration: none !important;\n",
       "  margin-left: 0.5em;\n",
       "  text-align: center;\n",
       "  /* unfitted */\n",
       "  border: var(--sklearn-color-unfitted-level-1) 1pt solid;\n",
       "  color: var(--sklearn-color-unfitted-level-1);\n",
       "}\n",
       "\n",
       ".sk-estimator-doc-link.fitted,\n",
       "a:link.sk-estimator-doc-link.fitted,\n",
       "a:visited.sk-estimator-doc-link.fitted {\n",
       "  /* fitted */\n",
       "  border: var(--sklearn-color-fitted-level-1) 1pt solid;\n",
       "  color: var(--sklearn-color-fitted-level-1);\n",
       "}\n",
       "\n",
       "/* On hover */\n",
       "div.sk-estimator:hover .sk-estimator-doc-link:hover,\n",
       ".sk-estimator-doc-link:hover,\n",
       "div.sk-label-container:hover .sk-estimator-doc-link:hover,\n",
       ".sk-estimator-doc-link:hover {\n",
       "  /* unfitted */\n",
       "  background-color: var(--sklearn-color-unfitted-level-3);\n",
       "  color: var(--sklearn-color-background);\n",
       "  text-decoration: none;\n",
       "}\n",
       "\n",
       "div.sk-estimator.fitted:hover .sk-estimator-doc-link.fitted:hover,\n",
       ".sk-estimator-doc-link.fitted:hover,\n",
       "div.sk-label-container:hover .sk-estimator-doc-link.fitted:hover,\n",
       ".sk-estimator-doc-link.fitted:hover {\n",
       "  /* fitted */\n",
       "  background-color: var(--sklearn-color-fitted-level-3);\n",
       "  color: var(--sklearn-color-background);\n",
       "  text-decoration: none;\n",
       "}\n",
       "\n",
       "/* Span, style for the box shown on hovering the info icon */\n",
       ".sk-estimator-doc-link span {\n",
       "  display: none;\n",
       "  z-index: 9999;\n",
       "  position: relative;\n",
       "  font-weight: normal;\n",
       "  right: .2ex;\n",
       "  padding: .5ex;\n",
       "  margin: .5ex;\n",
       "  width: min-content;\n",
       "  min-width: 20ex;\n",
       "  max-width: 50ex;\n",
       "  color: var(--sklearn-color-text);\n",
       "  box-shadow: 2pt 2pt 4pt #999;\n",
       "  /* unfitted */\n",
       "  background: var(--sklearn-color-unfitted-level-0);\n",
       "  border: .5pt solid var(--sklearn-color-unfitted-level-3);\n",
       "}\n",
       "\n",
       ".sk-estimator-doc-link.fitted span {\n",
       "  /* fitted */\n",
       "  background: var(--sklearn-color-fitted-level-0);\n",
       "  border: var(--sklearn-color-fitted-level-3);\n",
       "}\n",
       "\n",
       ".sk-estimator-doc-link:hover span {\n",
       "  display: block;\n",
       "}\n",
       "\n",
       "/* \"?\"-specific style due to the `<a>` HTML tag */\n",
       "\n",
       "#sk-container-id-1 a.estimator_doc_link {\n",
       "  float: right;\n",
       "  font-size: 1rem;\n",
       "  line-height: 1em;\n",
       "  font-family: monospace;\n",
       "  background-color: var(--sklearn-color-background);\n",
       "  border-radius: 1rem;\n",
       "  height: 1rem;\n",
       "  width: 1rem;\n",
       "  text-decoration: none;\n",
       "  /* unfitted */\n",
       "  color: var(--sklearn-color-unfitted-level-1);\n",
       "  border: var(--sklearn-color-unfitted-level-1) 1pt solid;\n",
       "}\n",
       "\n",
       "#sk-container-id-1 a.estimator_doc_link.fitted {\n",
       "  /* fitted */\n",
       "  border: var(--sklearn-color-fitted-level-1) 1pt solid;\n",
       "  color: var(--sklearn-color-fitted-level-1);\n",
       "}\n",
       "\n",
       "/* On hover */\n",
       "#sk-container-id-1 a.estimator_doc_link:hover {\n",
       "  /* unfitted */\n",
       "  background-color: var(--sklearn-color-unfitted-level-3);\n",
       "  color: var(--sklearn-color-background);\n",
       "  text-decoration: none;\n",
       "}\n",
       "\n",
       "#sk-container-id-1 a.estimator_doc_link.fitted:hover {\n",
       "  /* fitted */\n",
       "  background-color: var(--sklearn-color-fitted-level-3);\n",
       "}\n",
       "</style><div id=\"sk-container-id-1\" class=\"sk-top-container\"><div class=\"sk-text-repr-fallback\"><pre>NearestNeighbors(metric=&#x27;cosine&#x27;, n_jobs=-1, n_neighbors=20)</pre><b>In a Jupyter environment, please rerun this cell to show the HTML representation or trust the notebook. <br />On GitHub, the HTML representation is unable to render, please try loading this page with nbviewer.org.</b></div><div class=\"sk-container\" hidden><div class=\"sk-item\"><div class=\"sk-estimator fitted sk-toggleable\"><input class=\"sk-toggleable__control sk-hidden--visually\" id=\"sk-estimator-id-1\" type=\"checkbox\" checked><label for=\"sk-estimator-id-1\" class=\"sk-toggleable__label fitted sk-toggleable__label-arrow\"><div><div>NearestNeighbors</div></div><div><a class=\"sk-estimator-doc-link fitted\" rel=\"noreferrer\" target=\"_blank\" href=\"https://scikit-learn.org/1.6/modules/generated/sklearn.neighbors.NearestNeighbors.html\">?<span>Documentation for NearestNeighbors</span></a><span class=\"sk-estimator-doc-link fitted\">i<span>Fitted</span></span></div></label><div class=\"sk-toggleable__content fitted\"><pre>NearestNeighbors(metric=&#x27;cosine&#x27;, n_jobs=-1, n_neighbors=20)</pre></div> </div></div></div></div>"
      ],
      "text/plain": [
       "NearestNeighbors(metric='cosine', n_jobs=-1, n_neighbors=20)"
      ]
     },
     "execution_count": 87,
     "metadata": {},
     "output_type": "execute_result"
    }
   ],
   "source": [
    "# Build Model \n",
    "\n",
    "knn = NearestNeighbors(metric='cosine', algorithm='auto', n_neighbors=20, n_jobs= -1)\n",
    "knn.fit(csr_data)"
   ]
  },
  {
   "cell_type": "code",
   "execution_count": 88,
   "id": "702a3080",
   "metadata": {},
   "outputs": [],
   "source": [
    "def get_product_recommendation(data_df, data_pvt, data_csr, query, n_result):\n",
    "    \n",
    "    prod_name = re.sub(r'[^a-zA-Z0-9\\s]', '', query)\n",
    "\n",
    "    l_prods = data_df.loc[data_df['product_name'].str.contains(prod_name), :]\n",
    "\n",
    "    if len(l_prods):\n",
    "        # get idx of top result in l_products\n",
    "        prod_idx = l_prods.iloc[0]['product_id']\n",
    "        prod_idx = data_pvt[data_pvt['product_id'] == prod_idx].index[0]\n",
    "\n",
    "        distance, indices = knn.kneighbors(data_csr[prod_idx], n_neighbors=n_result+1) # Check if n_neighbors should be 15 or lower\n",
    "\n",
    "        rec_prod_indices = sorted( list(zip(indices.squeeze().tolist(), distance.squeeze().tolist())), key=lambda x: x[1][:0, -1])\n",
    "        recommended_products = []\n",
    "\n",
    "        for dist_ind in rec_prod_indices:\n",
    "\n",
    "            rec_prod_idx = data_pvt.iloc[dist_ind[0]]['product_id']\n",
    "            rec_prod_idx = data_df[data_df['product_id'] == rec_prod_idx].index\n",
    "            recommended_products.append({ 'ID' : data_df.iloc[rec_prod_idx]['product_id'].values[0],\n",
    "                                        'Name': data_df.iloc[rec_prod_idx]['product_name'].values[0], \n",
    "                                         'Distance': dist_ind[1]})\n",
    "            df_recommended = pd.DataFrame(recommended_products, index=range(1,n_result+1))\n",
    "            return df_recommended\n",
    "        \n",
    "    else:\n",
    "\n",
    "        return \"NO RECOMMENDATIONS FOUND!\""
   ]
  },
  {
   "cell_type": "markdown",
   "id": "1e3d5f5d",
   "metadata": {},
   "source": []
  },
  {
   "cell_type": "code",
   "execution_count": 89,
   "id": "50090a34",
   "metadata": {},
   "outputs": [
    {
     "name": "stdout",
     "output_type": "stream",
     "text": [
      "Wayona USB\n"
     ]
    }
   ],
   "source": [
    "query = 'Wayona USB'\n",
    "print(query)\n"
   ]
  },
  {
   "cell_type": "code",
   "execution_count": 90,
   "id": "d5eac6b0",
   "metadata": {},
   "outputs": [
    {
     "name": "stdout",
     "output_type": "stream",
     "text": [
      "10\n"
     ]
    }
   ],
   "source": [
    "n_result = 10\n",
    "print(n_result)"
   ]
  },
  {
   "cell_type": "code",
   "execution_count": 91,
   "id": "6073ac6c",
   "metadata": {},
   "outputs": [
    {
     "ename": "TypeError",
     "evalue": "'float' object is not subscriptable",
     "output_type": "error",
     "traceback": [
      "\u001b[0;31m---------------------------------------------------------------------------\u001b[0m",
      "\u001b[0;31mTypeError\u001b[0m                                 Traceback (most recent call last)",
      "Cell \u001b[0;32mIn[91], line 5\u001b[0m\n\u001b[1;32m      1\u001b[0m \u001b[38;5;66;03m# reset_index for df_pvt_final before passing to get_product_recommendation\u001b[39;00m\n\u001b[1;32m      3\u001b[0m df_pvt_final_ri \u001b[38;5;241m=\u001b[39m df_pvt_final\u001b[38;5;241m.\u001b[39mreset_index()\n\u001b[0;32m----> 5\u001b[0m products \u001b[38;5;241m=\u001b[39m get_product_recommendation(df, df_pvt_final_ri, csr_data, query, n_result )\n\u001b[1;32m      6\u001b[0m products\n",
      "Cell \u001b[0;32mIn[88], line 14\u001b[0m, in \u001b[0;36mget_product_recommendation\u001b[0;34m(data_df, data_pvt, data_csr, query, n_result)\u001b[0m\n\u001b[1;32m     10\u001b[0m prod_idx \u001b[38;5;241m=\u001b[39m data_pvt[data_pvt[\u001b[38;5;124m'\u001b[39m\u001b[38;5;124mproduct_id\u001b[39m\u001b[38;5;124m'\u001b[39m] \u001b[38;5;241m==\u001b[39m prod_idx]\u001b[38;5;241m.\u001b[39mindex[\u001b[38;5;241m0\u001b[39m]\n\u001b[1;32m     12\u001b[0m distance, indices \u001b[38;5;241m=\u001b[39m knn\u001b[38;5;241m.\u001b[39mkneighbors(data_csr[prod_idx], n_neighbors\u001b[38;5;241m=\u001b[39mn_result\u001b[38;5;241m+\u001b[39m\u001b[38;5;241m1\u001b[39m) \u001b[38;5;66;03m# Check if n_neighbors should be 15 or lower\u001b[39;00m\n\u001b[0;32m---> 14\u001b[0m rec_prod_indices \u001b[38;5;241m=\u001b[39m \u001b[38;5;28msorted\u001b[39m( \u001b[38;5;28mlist\u001b[39m(\u001b[38;5;28mzip\u001b[39m(indices\u001b[38;5;241m.\u001b[39msqueeze()\u001b[38;5;241m.\u001b[39mtolist(), distance\u001b[38;5;241m.\u001b[39msqueeze()\u001b[38;5;241m.\u001b[39mtolist())), key\u001b[38;5;241m=\u001b[39m\u001b[38;5;28;01mlambda\u001b[39;00m x: x[\u001b[38;5;241m1\u001b[39m][:\u001b[38;5;241m0\u001b[39m, \u001b[38;5;241m-\u001b[39m\u001b[38;5;241m1\u001b[39m])\n\u001b[1;32m     15\u001b[0m recommended_products \u001b[38;5;241m=\u001b[39m []\n\u001b[1;32m     17\u001b[0m \u001b[38;5;28;01mfor\u001b[39;00m dist_ind \u001b[38;5;129;01min\u001b[39;00m rec_prod_indices:\n",
      "Cell \u001b[0;32mIn[88], line 14\u001b[0m, in \u001b[0;36mget_product_recommendation.<locals>.<lambda>\u001b[0;34m(x)\u001b[0m\n\u001b[1;32m     10\u001b[0m prod_idx \u001b[38;5;241m=\u001b[39m data_pvt[data_pvt[\u001b[38;5;124m'\u001b[39m\u001b[38;5;124mproduct_id\u001b[39m\u001b[38;5;124m'\u001b[39m] \u001b[38;5;241m==\u001b[39m prod_idx]\u001b[38;5;241m.\u001b[39mindex[\u001b[38;5;241m0\u001b[39m]\n\u001b[1;32m     12\u001b[0m distance, indices \u001b[38;5;241m=\u001b[39m knn\u001b[38;5;241m.\u001b[39mkneighbors(data_csr[prod_idx], n_neighbors\u001b[38;5;241m=\u001b[39mn_result\u001b[38;5;241m+\u001b[39m\u001b[38;5;241m1\u001b[39m) \u001b[38;5;66;03m# Check if n_neighbors should be 15 or lower\u001b[39;00m\n\u001b[0;32m---> 14\u001b[0m rec_prod_indices \u001b[38;5;241m=\u001b[39m \u001b[38;5;28msorted\u001b[39m( \u001b[38;5;28mlist\u001b[39m(\u001b[38;5;28mzip\u001b[39m(indices\u001b[38;5;241m.\u001b[39msqueeze()\u001b[38;5;241m.\u001b[39mtolist(), distance\u001b[38;5;241m.\u001b[39msqueeze()\u001b[38;5;241m.\u001b[39mtolist())), key\u001b[38;5;241m=\u001b[39m\u001b[38;5;28;01mlambda\u001b[39;00m x: x[\u001b[38;5;241m1\u001b[39m][:\u001b[38;5;241m0\u001b[39m, \u001b[38;5;241m-\u001b[39m\u001b[38;5;241m1\u001b[39m])\n\u001b[1;32m     15\u001b[0m recommended_products \u001b[38;5;241m=\u001b[39m []\n\u001b[1;32m     17\u001b[0m \u001b[38;5;28;01mfor\u001b[39;00m dist_ind \u001b[38;5;129;01min\u001b[39;00m rec_prod_indices:\n",
      "\u001b[0;31mTypeError\u001b[0m: 'float' object is not subscriptable"
     ]
    }
   ],
   "source": [
    "# reset_index for df_pvt_final before passing to get_product_recommendation\n",
    "\n",
    "df_pvt_final_ri = df_pvt_final.reset_index()\n",
    "\n",
    "products = get_product_recommendation(df, df_pvt_final_ri, csr_data, query, n_result )\n",
    "products"
   ]
  },
  {
   "cell_type": "code",
   "execution_count": null,
   "id": "859140de",
   "metadata": {},
   "outputs": [],
   "source": []
  }
 ],
 "metadata": {
  "kernelspec": {
   "display_name": "Python 3",
   "language": "python",
   "name": "python3"
  },
  "language_info": {
   "codemirror_mode": {
    "name": "ipython",
    "version": 3
   },
   "file_extension": ".py",
   "mimetype": "text/x-python",
   "name": "python",
   "nbconvert_exporter": "python",
   "pygments_lexer": "ipython3",
   "version": "3.12.9"
  }
 },
 "nbformat": 4,
 "nbformat_minor": 5
}
